{
 "cells": [
  {
   "cell_type": "markdown",
   "metadata": {},
   "source": [
    "Вспомогательные функции и Импорты"
   ]
  },
  {
   "cell_type": "code",
   "execution_count": 1,
   "metadata": {},
   "outputs": [],
   "source": [
    "import numpy as np\n",
    "import pandas as pd\n",
    "\n",
    "from statsmodels.tsa.seasonal import seasonal_decompose\n",
    "from statsmodels.tsa.stattools import adfuller, kpss\n",
    "from statsmodels.tsa.stattools import acf, pacf\n",
    "from statsmodels.graphics.tsaplots import plot_acf, plot_pacf\n",
    "from statsmodels.tsa.arima.model import ARIMA\n",
    "from pmdarima.arima import auto_arima\n",
    "\n",
    "import matplotlib.pyplot as plt\n",
    "from matplotlib import gridspec"
   ]
  },
  {
   "cell_type": "code",
   "execution_count": 2,
   "metadata": {},
   "outputs": [],
   "source": [
    "def adf_test(timeseries, maxlag=None, regression='c', autolag='AIC'):\n",
    "    '''\n",
    "    regression='c' -> регрессия с константой\n",
    "    AIC -> критерий Акаике\n",
    "    BIC -> Байесовский критерий\n",
    "    '''\n",
    "    print(\"Results of Dickey-Fuller Test:\")\n",
    "    dftest = adfuller(timeseries, maxlag=maxlag, regression=regression, autolag=autolag)\n",
    "    dfoutput = pd.Series(\n",
    "        dftest[0:4],\n",
    "        index=[\n",
    "            \"Test Statistic\",\n",
    "            \"p-value\",\n",
    "            \"#Lags Used\",\n",
    "            \"Number of Observations Used\",\n",
    "        ],\n",
    "    )\n",
    "    for key, value in dftest[4].items():\n",
    "        dfoutput[\"Critical Value (%s)\" % key] = value\n",
    "    print(dfoutput)"
   ]
  },
  {
   "cell_type": "code",
   "execution_count": 3,
   "metadata": {},
   "outputs": [],
   "source": [
    "def kpss_test(timeseries, maxlag='auto', regression='c'):\n",
    "    print(\"Results of KPSS Test:\")\n",
    "    kpsstest = kpss(timeseries, regression=regression, nlags=maxlag)\n",
    "    kpss_output = pd.Series(\n",
    "        kpsstest[0:3], index=[\"Test Statistic\", \"p-value\", \"Lags Used\"]\n",
    "    )\n",
    "    for key, value in kpsstest[3].items():\n",
    "        kpss_output[\"Critical Value (%s)\" % key] = value\n",
    "    print(kpss_output)"
   ]
  },
  {
   "cell_type": "code",
   "execution_count": 4,
   "metadata": {},
   "outputs": [],
   "source": [
    "def plot_forecast(df, fcast, model):\n",
    "    fig, ax = plt.subplots(figsize=(15, 5))\n",
    "    df.plot(ax=ax, legend=True)\n",
    "    fcast['mean'].plot(ax=ax) # out-of-sample\n",
    "\n",
    "    ax.fill_between(\n",
    "        fcast.index, \n",
    "        fcast['mean_ci_lower'], \n",
    "        fcast['mean_ci_upper'], \n",
    "        color='k', \n",
    "        alpha=0.1\n",
    "    ) \n",
    "\n",
    "    model.predict().plot(ax=ax, color='red', legend=True) # in-sample\n",
    "    plt.show();"
   ]
  },
  {
   "cell_type": "markdown",
   "metadata": {},
   "source": [
    "## Основная часть"
   ]
  },
  {
   "cell_type": "code",
   "execution_count": 5,
   "metadata": {},
   "outputs": [
    {
     "data": {
      "text/html": [
       "<div>\n",
       "<style scoped>\n",
       "    .dataframe tbody tr th:only-of-type {\n",
       "        vertical-align: middle;\n",
       "    }\n",
       "\n",
       "    .dataframe tbody tr th {\n",
       "        vertical-align: top;\n",
       "    }\n",
       "\n",
       "    .dataframe thead th {\n",
       "        text-align: right;\n",
       "    }\n",
       "</style>\n",
       "<table border=\"1\" class=\"dataframe\">\n",
       "  <thead>\n",
       "    <tr style=\"text-align: right;\">\n",
       "      <th></th>\n",
       "      <th>w</th>\n",
       "      <th>v</th>\n",
       "      <th>q</th>\n",
       "    </tr>\n",
       "  </thead>\n",
       "  <tbody>\n",
       "    <tr>\n",
       "      <th>0</th>\n",
       "      <td>0.200898</td>\n",
       "      <td>0.803591</td>\n",
       "      <td>8.014130</td>\n",
       "    </tr>\n",
       "    <tr>\n",
       "      <th>1</th>\n",
       "      <td>-0.565659</td>\n",
       "      <td>-2.262637</td>\n",
       "      <td>8.003101</td>\n",
       "    </tr>\n",
       "    <tr>\n",
       "      <th>2</th>\n",
       "      <td>2.233380</td>\n",
       "      <td>-0.833036</td>\n",
       "      <td>5.973488</td>\n",
       "    </tr>\n",
       "    <tr>\n",
       "      <th>3</th>\n",
       "      <td>1.385686</td>\n",
       "      <td>-3.747280</td>\n",
       "      <td>5.191956</td>\n",
       "    </tr>\n",
       "    <tr>\n",
       "      <th>4</th>\n",
       "      <td>3.029379</td>\n",
       "      <td>-2.603950</td>\n",
       "      <td>4.615604</td>\n",
       "    </tr>\n",
       "    <tr>\n",
       "      <th>...</th>\n",
       "      <td>...</td>\n",
       "      <td>...</td>\n",
       "      <td>...</td>\n",
       "    </tr>\n",
       "    <tr>\n",
       "      <th>294</th>\n",
       "      <td>2.680523</td>\n",
       "      <td>-213.706234</td>\n",
       "      <td>3.839535</td>\n",
       "    </tr>\n",
       "    <tr>\n",
       "      <th>295</th>\n",
       "      <td>1.669260</td>\n",
       "      <td>-215.926995</td>\n",
       "      <td>4.444583</td>\n",
       "    </tr>\n",
       "    <tr>\n",
       "      <th>296</th>\n",
       "      <td>2.783687</td>\n",
       "      <td>-215.781501</td>\n",
       "      <td>4.525222</td>\n",
       "    </tr>\n",
       "    <tr>\n",
       "      <th>297</th>\n",
       "      <td>2.550734</td>\n",
       "      <td>-214.540925</td>\n",
       "      <td>4.401659</td>\n",
       "    </tr>\n",
       "    <tr>\n",
       "      <th>298</th>\n",
       "      <td>1.688201</td>\n",
       "      <td>-216.253970</td>\n",
       "      <td>4.472534</td>\n",
       "    </tr>\n",
       "  </tbody>\n",
       "</table>\n",
       "<p>299 rows × 3 columns</p>\n",
       "</div>"
      ],
      "text/plain": [
       "            w           v         q\n",
       "0    0.200898    0.803591  8.014130\n",
       "1   -0.565659   -2.262637  8.003101\n",
       "2    2.233380   -0.833036  5.973488\n",
       "3    1.385686   -3.747280  5.191956\n",
       "4    3.029379   -2.603950  4.615604\n",
       "..        ...         ...       ...\n",
       "294  2.680523 -213.706234  3.839535\n",
       "295  1.669260 -215.926995  4.444583\n",
       "296  2.783687 -215.781501  4.525222\n",
       "297  2.550734 -214.540925  4.401659\n",
       "298  1.688201 -216.253970  4.472534\n",
       "\n",
       "[299 rows x 3 columns]"
      ]
     },
     "execution_count": 5,
     "metadata": {},
     "output_type": "execute_result"
    }
   ],
   "source": [
    "df = pd.read_csv('variant2712.csv', sep=';', decimal=',')\n",
    "df"
   ]
  },
  {
   "cell_type": "markdown",
   "metadata": {},
   "source": [
    "### Пункт а)"
   ]
  },
  {
   "cell_type": "markdown",
   "metadata": {},
   "source": [
    "#### Стационарность"
   ]
  },
  {
   "cell_type": "code",
   "execution_count": 6,
   "metadata": {},
   "outputs": [
    {
     "data": {
      "image/png": "[encoded data removed]",
      "text/plain": [
       "<Figure size 640x480 with 1 Axes>"
      ]
     },
     "metadata": {},
     "output_type": "display_data"
    }
   ],
   "source": [
    "df.w.plot();"
   ]
  },
  {
   "cell_type": "markdown",
   "metadata": {},
   "source": [
    "**Описание графика:** Мы видим, что в начальный момент времени ряд снижается, а потом резко вырастает выше первоначального значения, а дальше ряд колеблется вокруг примерно одного и того же значения по вертикальной оси, что может означать стационарность ряда. \n",
    "\n",
    "Проверим гипотезу о стационарности данного временного ряда формально:"
   ]
  },
  {
   "cell_type": "code",
   "execution_count": 7,
   "metadata": {},
   "outputs": [
    {
     "name": "stdout",
     "output_type": "stream",
     "text": [
      "Results of Dickey-Fuller Test:\n",
      "Test Statistic                -1.170195e+01\n",
      "p-value                        1.561038e-21\n",
      "#Lags Used                     1.000000e+00\n",
      "Number of Observations Used    2.970000e+02\n",
      "Critical Value (1%)           -3.452561e+00\n",
      "Critical Value (5%)           -2.871321e+00\n",
      "Critical Value (10%)          -2.571982e+00\n",
      "dtype: float64\n"
     ]
    }
   ],
   "source": [
    "adf_test(df.w, regression='c', autolag='BIC')"
   ]
  },
  {
   "cell_type": "markdown",
   "metadata": {},
   "source": [
    "p-value теста на стационарность Дики-Фуллера с константой меньше люього разумного уровня значимости, что говорит об отвержении нулевой гипотезы:\n",
    "\n",
    "$H_0$: ряд нестационарен (содержит единичный корень),  \n",
    "$H_1$: ряд стационарен. \n",
    "\n",
    "Таким образом, ряд стационарен. "
   ]
  },
  {
   "cell_type": "code",
   "execution_count": 8,
   "metadata": {},
   "outputs": [
    {
     "name": "stdout",
     "output_type": "stream",
     "text": [
      "Results of KPSS Test:\n",
      "Test Statistic           0.184946\n",
      "p-value                  0.100000\n",
      "Lags Used                1.000000\n",
      "Critical Value (10%)     0.347000\n",
      "Critical Value (5%)      0.463000\n",
      "Critical Value (2.5%)    0.574000\n",
      "Critical Value (1%)      0.739000\n",
      "dtype: float64\n"
     ]
    },
    {
     "name": "stderr",
     "output_type": "stream",
     "text": [
      "/var/folders/kn/wk_gspxn3dl6_5x56s3qj_c80000gn/T/ipykernel_14504/2337516338.py:3: InterpolationWarning: The test statistic is outside of the range of p-values available in the\n",
      "look-up table. The actual p-value is greater than the p-value returned.\n",
      "\n",
      "  kpsstest = kpss(timeseries, regression=regression, nlags=maxlag)\n"
     ]
    }
   ],
   "source": [
    "kpss_test(df.w, regression='c')"
   ]
  },
  {
   "cell_type": "markdown",
   "metadata": {},
   "source": [
    "У KPSS-теста гипотезы обратные (т.е. нулевая гипотеза соответствует стационарности ряда, а альтернативная &mdash; его нестационарности), поэтому при p-value > 0.10 заключаем, что нулевая гипотеза не отвергается и ряд стационарен"
   ]
  },
  {
   "cell_type": "markdown",
   "metadata": {},
   "source": [
    "**Вывод:** Ряд стационарен. "
   ]
  },
  {
   "cell_type": "markdown",
   "metadata": {},
   "source": [
    "#### ACF и PACF"
   ]
  },
  {
   "cell_type": "code",
   "execution_count": 10,
   "metadata": {},
   "outputs": [
    {
     "data": {
      "image/png": "[encoded data removed]",
      "text/plain": [
       "<Figure size 640x480 with 1 Axes>"
      ]
     },
     "metadata": {},
     "output_type": "display_data"
    }
   ],
   "source": [
    "plot_acf(df.w);"
   ]
  },
  {
   "cell_type": "code",
   "execution_count": 11,
   "metadata": {},
   "outputs": [
    {
     "data": {
      "image/png": "[encoded data removed]",
      "text/plain": [
       "<Figure size 640x480 with 1 Axes>"
      ]
     },
     "metadata": {},
     "output_type": "display_data"
    }
   ],
   "source": [
    "plot_pacf(df.w);"
   ]
  },
  {
   "cell_type": "code",
   "execution_count": 14,
   "metadata": {},
   "outputs": [
    {
     "data": {
      "text/plain": [
       "(array([ 1.        , -0.19106034,  0.31755359, -0.16450366,  0.13306182,\n",
       "        -0.07697811,  0.05122079]),\n",
       " array([[ 1.        ,  1.        ],\n",
       "        [-0.30440798, -0.07771269],\n",
       "        [ 0.20014118,  0.43496599],\n",
       "        [-0.29247555, -0.03653178],\n",
       "        [ 0.00240135,  0.26372228],\n",
       "        [-0.20936809,  0.05541186],\n",
       "        [-0.08174299,  0.18418457]]))"
      ]
     },
     "execution_count": 14,
     "metadata": {},
     "output_type": "execute_result"
    }
   ],
   "source": [
    "acf(df.w, nlags=6, alpha=0.05)\n",
    "# смотрим только на первый np.array со значениями ACF"
   ]
  },
  {
   "cell_type": "code",
   "execution_count": 15,
   "metadata": {},
   "outputs": [
    {
     "data": {
      "text/plain": [
       "(array([ 1.        , -0.19170148,  0.29373722, -0.07564418,  0.01248737,\n",
       "         0.01085044, -0.01089676]),\n",
       " array([[ 1.        ,  1.        ],\n",
       "        [-0.30504912, -0.07835384],\n",
       "        [ 0.18038958,  0.40708486],\n",
       "        [-0.18899182,  0.03770346],\n",
       "        [-0.10086027,  0.12583502],\n",
       "        [-0.10249721,  0.12419808],\n",
       "        [-0.12424441,  0.10245088]]))"
      ]
     },
     "execution_count": 15,
     "metadata": {},
     "output_type": "execute_result"
    }
   ],
   "source": [
    "pacf(df.w, nlags=6, alpha=0.05)"
   ]
  },
  {
   "cell_type": "markdown",
   "metadata": {},
   "source": [
    "Визуально видим, что для ACF значимы первые 3-4 лага (4-й лаг находится на границе доверительного интервала), а для PACF &mdash; первые 2. Отсюда следует, что:\n",
    "1. возможно, мы имеем дело с ARMA-моделью\n",
    "2. мы не будем рассматривать модели с лагами больших порядков\n",
    "\n"
   ]
  },
  {
   "cell_type": "markdown",
   "metadata": {},
   "source": [
    "| **ACF**  |        |      |        |      |        |        |\n",
    "| ---- | ------ | ---- | ------ | ---- | ------ | ------ |\n",
    "| 1.   | \\-0.19 | 0.32 | \\-0.16 | 0.13 | \\-0.08 | 0.05   |\n",
    "|      |        |      |        |      |        |        |\n",
    "| **PACF** |        |      |        |      |        |        |\n",
    "| 1.   | \\-0.19 | 0.29 | \\-0.08 | 0.01 | 0.01   | \\-0.01 |\n",
    "\n",
    "<small>Таблица значений ACF и PACF, округленных до 2 знаков после запятой. </small>  \n",
    "<small>Самый левый лаг &mdash; нулевой </small>"
   ]
  },
  {
   "cell_type": "markdown",
   "metadata": {},
   "source": [
    "Теперь переберем модели ARIMA($\\leq$ 4, 0, $\\leq$ 4), чтобы выбрать лучшую среди них по двум параметрам:\n",
    "1. Нормальность остатков <small>(если у нас есть две модели: у одной информационные критерии ниже, а у другой — остатки являются белым шумом, то выбирать надо вторую модель, даже если у неё информационные критерии ниже)</small>\n",
    "2. Информационный критерий BIC. \n",
    "\n",
    "Ряд стационарный, поэтому все модели (..., 0, ...)"
   ]
  },
  {
   "cell_type": "markdown",
   "metadata": {},
   "source": [
    "- **Ljung-Box** :\n",
    "\n",
    "  - $H_0$ &mdash; остатки - белый шум\n",
    "\n",
    "<br>\n",
    "\n",
    "- **Heteroskedasticity** :\n",
    "\n",
    "  - $H_0$ &mdash; остатки гомоскедастичны (тест Уайта)\n",
    "\n",
    "<br>\n",
    "\n",
    "- **Jarque-Bera** :\n",
    "\n",
    "  - $H_0$ &mdash; остатки распределены нормально"
   ]
  },
  {
   "cell_type": "code",
   "execution_count": 38,
   "metadata": {},
   "outputs": [
    {
     "name": "stderr",
     "output_type": "stream",
     "text": [
      "/Library/Frameworks/Python.framework/Versions/3.9/lib/python3.9/site-packages/statsmodels/tsa/statespace/sarimax.py:966: UserWarning: Non-stationary starting autoregressive parameters found. Using zeros as starting parameters.\n",
      "  warn('Non-stationary starting autoregressive parameters'\n",
      "/Library/Frameworks/Python.framework/Versions/3.9/lib/python3.9/site-packages/statsmodels/tsa/statespace/sarimax.py:978: UserWarning: Non-invertible starting MA parameters found. Using zeros as starting parameters.\n",
      "  warn('Non-invertible starting MA parameters found.'\n"
     ]
    },
    {
     "name": "stdout",
     "output_type": "stream",
     "text": [
      "                               SARIMAX Results                                \n",
      "==============================================================================\n",
      "Dep. Variable:                      w   No. Observations:                  299\n",
      "Model:                 ARIMA(4, 0, 4)   Log Likelihood                -233.869\n",
      "Date:                Wed, 27 Dec 2023   AIC                            487.738\n",
      "Time:                        15:15:19   BIC                            524.742\n",
      "Sample:                             0   HQIC                           502.549\n",
      "                                - 299                                         \n",
      "Covariance Type:                  opg                                         \n",
      "==============================================================================\n",
      "                 coef    std err          z      P>|z|      [0.025      0.975]\n",
      "------------------------------------------------------------------------------\n",
      "const          2.2699      0.036     62.377      0.000       2.199       2.341\n",
      "ar.L1          0.2009      0.598      0.336      0.737      -0.972       1.374\n",
      "ar.L2          0.0428      0.468      0.091      0.927      -0.875       0.961\n",
      "ar.L3         -0.3945      0.281     -1.402      0.161      -0.946       0.157\n",
      "ar.L4         -0.1641      0.334     -0.490      0.624      -0.820       0.492\n",
      "ma.L1         -0.3022      0.594     -0.509      0.611      -1.467       0.863\n",
      "ma.L2          0.2967      0.506      0.586      0.558      -0.696       1.289\n",
      "ma.L3          0.2077      0.188      1.104      0.270      -0.161       0.576\n",
      "ma.L4          0.2774      0.220      1.261      0.207      -0.154       0.709\n",
      "sigma2         0.2788      0.021     13.587      0.000       0.239       0.319\n",
      "===================================================================================\n",
      "Ljung-Box (L1) (Q):                   0.08   Jarque-Bera (JB):               148.10\n",
      "Prob(Q):                              0.77   Prob(JB):                         0.00\n",
      "Heteroskedasticity (H):               0.63   Skew:                            -0.69\n",
      "Prob(H) (two-sided):                  0.02   Kurtosis:                         6.16\n",
      "===================================================================================\n",
      "\n",
      "Warnings:\n",
      "[1] Covariance matrix calculated using the outer product of gradients (complex-step).\n"
     ]
    },
    {
     "name": "stderr",
     "output_type": "stream",
     "text": [
      "/Library/Frameworks/Python.framework/Versions/3.9/lib/python3.9/site-packages/statsmodels/base/model.py:607: ConvergenceWarning: Maximum Likelihood optimization failed to converge. Check mle_retvals\n",
      "  warnings.warn(\"Maximum Likelihood optimization failed to \"\n"
     ]
    }
   ],
   "source": [
    "print(\n",
    "    ARIMA(df.w, order=(4, 0, 4), trend='c')\n",
    "    .fit()\n",
    "    .summary()\n",
    ")\n",
    "# остатки - белый шум -> да\n",
    "# остатки гомоскедастичны -> нет (на 5%)\n",
    "# остатки распределены нормально -> нет\n",
    "# BIC -> 524.742"
   ]
  },
  {
   "cell_type": "code",
   "execution_count": 39,
   "metadata": {},
   "outputs": [
    {
     "name": "stdout",
     "output_type": "stream",
     "text": [
      "                               SARIMAX Results                                \n",
      "==============================================================================\n",
      "Dep. Variable:                      w   No. Observations:                  299\n",
      "Model:                 ARIMA(4, 0, 3)   Log Likelihood                -232.739\n",
      "Date:                Wed, 27 Dec 2023   AIC                            483.478\n",
      "Time:                        15:15:43   BIC                            516.782\n",
      "Sample:                             0   HQIC                           496.807\n",
      "                                - 299                                         \n",
      "Covariance Type:                  opg                                         \n",
      "==============================================================================\n",
      "                 coef    std err          z      P>|z|      [0.025      0.975]\n",
      "------------------------------------------------------------------------------\n",
      "const          2.2677      0.040     56.226      0.000       2.189       2.347\n",
      "ar.L1         -0.5382      0.201     -2.679      0.007      -0.932      -0.144\n",
      "ar.L2         -0.7203      0.142     -5.066      0.000      -0.999      -0.442\n",
      "ar.L3         -0.1106      0.203     -0.546      0.585      -0.508       0.287\n",
      "ar.L4          0.3066      0.079      3.880      0.000       0.152       0.462\n",
      "ma.L1          0.4440      0.218      2.035      0.042       0.016       0.872\n",
      "ma.L2          1.0025      0.100     10.045      0.000       0.807       1.198\n",
      "ma.L3          0.0943      0.214      0.441      0.659      -0.325       0.514\n",
      "sigma2         0.2771      0.021     13.348      0.000       0.236       0.318\n",
      "===================================================================================\n",
      "Ljung-Box (L1) (Q):                   0.13   Jarque-Bera (JB):               146.12\n",
      "Prob(Q):                              0.72   Prob(JB):                         0.00\n",
      "Heteroskedasticity (H):               0.64   Skew:                            -0.72\n",
      "Prob(H) (two-sided):                  0.03   Kurtosis:                         6.11\n",
      "===================================================================================\n",
      "\n",
      "Warnings:\n",
      "[1] Covariance matrix calculated using the outer product of gradients (complex-step).\n"
     ]
    },
    {
     "name": "stderr",
     "output_type": "stream",
     "text": [
      "/Library/Frameworks/Python.framework/Versions/3.9/lib/python3.9/site-packages/statsmodels/base/model.py:607: ConvergenceWarning: Maximum Likelihood optimization failed to converge. Check mle_retvals\n",
      "  warnings.warn(\"Maximum Likelihood optimization failed to \"\n"
     ]
    }
   ],
   "source": [
    "print(\n",
    "    ARIMA(df.w, order=(4, 0, 3), trend='c')\n",
    "    .fit()\n",
    "    .summary()\n",
    ")\n",
    "# остатки - белый шум -> да\n",
    "# остатки гомоскедастичны -> нет (на 5%)\n",
    "# остатки распределены нормально -> нет\n",
    "# BIC -> 516.782"
   ]
  },
  {
   "cell_type": "code",
   "execution_count": 20,
   "metadata": {},
   "outputs": [
    {
     "name": "stderr",
     "output_type": "stream",
     "text": [
      "/Library/Frameworks/Python.framework/Versions/3.9/lib/python3.9/site-packages/statsmodels/tsa/statespace/sarimax.py:966: UserWarning: Non-stationary starting autoregressive parameters found. Using zeros as starting parameters.\n",
      "  warn('Non-stationary starting autoregressive parameters'\n",
      "/Library/Frameworks/Python.framework/Versions/3.9/lib/python3.9/site-packages/statsmodels/tsa/statespace/sarimax.py:978: UserWarning: Non-invertible starting MA parameters found. Using zeros as starting parameters.\n",
      "  warn('Non-invertible starting MA parameters found.'\n"
     ]
    },
    {
     "name": "stdout",
     "output_type": "stream",
     "text": [
      "                               SARIMAX Results                                \n",
      "==============================================================================\n",
      "Dep. Variable:                      w   No. Observations:                  299\n",
      "Model:                 ARIMA(4, 0, 2)   Log Likelihood                -234.072\n",
      "Date:                Wed, 27 Dec 2023   AIC                            484.144\n",
      "Time:                        14:44:40   BIC                            513.748\n",
      "Sample:                             0   HQIC                           495.993\n",
      "                                - 299                                         \n",
      "Covariance Type:                  opg                                         \n",
      "==============================================================================\n",
      "                 coef    std err          z      P>|z|      [0.025      0.975]\n",
      "------------------------------------------------------------------------------\n",
      "const          2.2678      0.039     57.840      0.000       2.191       2.345\n",
      "ar.L1         -0.1009      2.882     -0.035      0.972      -5.749       5.548\n",
      "ar.L2          0.0041      1.337      0.003      0.998      -2.616       2.624\n",
      "ar.L3         -0.0901      0.865     -0.104      0.917      -1.786       1.606\n",
      "ar.L4          0.1133      0.362      0.313      0.754      -0.596       0.822\n",
      "ma.L1          0.0051      2.882      0.002      0.999      -5.643       5.653\n",
      "ma.L2          0.3122      1.213      0.257      0.797      -2.064       2.689\n",
      "sigma2         0.2800      0.021     13.312      0.000       0.239       0.321\n",
      "===================================================================================\n",
      "Ljung-Box (L1) (Q):                   0.13   Jarque-Bera (JB):               143.51\n",
      "Prob(Q):                              0.72   Prob(JB):                         0.00\n",
      "Heteroskedasticity (H):               0.63   Skew:                            -0.70\n",
      "Prob(H) (two-sided):                  0.02   Kurtosis:                         6.09\n",
      "===================================================================================\n",
      "\n",
      "Warnings:\n",
      "[1] Covariance matrix calculated using the outer product of gradients (complex-step).\n"
     ]
    }
   ],
   "source": [
    "print(\n",
    "    ARIMA(df.w, order=(4, 0, 2), trend='c')\n",
    "    .fit()\n",
    "    .summary()\n",
    ")\n",
    "# остатки - белый шум -> да\n",
    "# остатки гомоскедастичны -> нет (на 5%)\n",
    "# остатки распределены нормально -> нет\n",
    "# BIC -> 513.748"
   ]
  },
  {
   "cell_type": "code",
   "execution_count": 19,
   "metadata": {},
   "outputs": [
    {
     "name": "stderr",
     "output_type": "stream",
     "text": [
      "/Library/Frameworks/Python.framework/Versions/3.9/lib/python3.9/site-packages/statsmodels/tsa/statespace/sarimax.py:966: UserWarning: Non-stationary starting autoregressive parameters found. Using zeros as starting parameters.\n",
      "  warn('Non-stationary starting autoregressive parameters'\n",
      "/Library/Frameworks/Python.framework/Versions/3.9/lib/python3.9/site-packages/statsmodels/tsa/statespace/sarimax.py:978: UserWarning: Non-invertible starting MA parameters found. Using zeros as starting parameters.\n",
      "  warn('Non-invertible starting MA parameters found.'\n"
     ]
    },
    {
     "name": "stdout",
     "output_type": "stream",
     "text": [
      "                               SARIMAX Results                                \n",
      "==============================================================================\n",
      "Dep. Variable:                      w   No. Observations:                  299\n",
      "Model:                 ARIMA(3, 0, 2)   Log Likelihood                -234.114\n",
      "Date:                Wed, 27 Dec 2023   AIC                            482.228\n",
      "Time:                        14:42:49   BIC                            508.131\n",
      "Sample:                             0   HQIC                           492.596\n",
      "                                - 299                                         \n",
      "Covariance Type:                  opg                                         \n",
      "==============================================================================\n",
      "                 coef    std err          z      P>|z|      [0.025      0.975]\n",
      "------------------------------------------------------------------------------\n",
      "const          2.2683      0.039     58.596      0.000       2.192       2.344\n",
      "ar.L1         -0.0584     12.100     -0.005      0.996     -23.773      23.656\n",
      "ar.L2          0.3423      3.350      0.102      0.919      -6.224       6.909\n",
      "ar.L3         -0.0683      3.615     -0.019      0.985      -7.153       7.016\n",
      "ma.L1         -0.0370     12.102     -0.003      0.998     -23.756      23.682\n",
      "ma.L2         -0.0214      2.207     -0.010      0.992      -4.346       4.304\n",
      "sigma2         0.2800      0.021     13.374      0.000       0.239       0.321\n",
      "===================================================================================\n",
      "Ljung-Box (L1) (Q):                   0.14   Jarque-Bera (JB):               143.01\n",
      "Prob(Q):                              0.71   Prob(JB):                         0.00\n",
      "Heteroskedasticity (H):               0.63   Skew:                            -0.70\n",
      "Prob(H) (two-sided):                  0.02   Kurtosis:                         6.09\n",
      "===================================================================================\n",
      "\n",
      "Warnings:\n",
      "[1] Covariance matrix calculated using the outer product of gradients (complex-step).\n"
     ]
    }
   ],
   "source": [
    "print(\n",
    "    ARIMA(df.w, order=(3, 0, 2), trend='c')\n",
    "    .fit()\n",
    "    .summary()\n",
    ")\n",
    "# остатки - белый шум -> да\n",
    "# остатки гомоскедастичны -> нет (на 5%)\n",
    "# остатки распределены нормально -> нет\n",
    "# BIC -> 508.131"
   ]
  },
  {
   "cell_type": "code",
   "execution_count": 21,
   "metadata": {},
   "outputs": [
    {
     "name": "stdout",
     "output_type": "stream",
     "text": [
      "                               SARIMAX Results                                \n",
      "==============================================================================\n",
      "Dep. Variable:                      w   No. Observations:                  299\n",
      "Model:                 ARIMA(3, 0, 1)   Log Likelihood                -234.111\n",
      "Date:                Wed, 27 Dec 2023   AIC                            480.223\n",
      "Time:                        14:45:21   BIC                            502.425\n",
      "Sample:                             0   HQIC                           489.109\n",
      "                                - 299                                         \n",
      "Covariance Type:                  opg                                         \n",
      "==============================================================================\n",
      "                 coef    std err          z      P>|z|      [0.025      0.975]\n",
      "------------------------------------------------------------------------------\n",
      "const          2.2683      0.038     59.049      0.000       2.193       2.344\n",
      "ar.L1         -0.1744      1.101     -0.158      0.874      -2.332       1.983\n",
      "ar.L2          0.3096      0.138      2.242      0.025       0.039       0.580\n",
      "ar.L3         -0.0342      0.359     -0.095      0.924      -0.737       0.669\n",
      "ma.L1          0.0791      1.107      0.071      0.943      -2.091       2.250\n",
      "sigma2         0.2800      0.021     13.466      0.000       0.239       0.321\n",
      "===================================================================================\n",
      "Ljung-Box (L1) (Q):                   0.14   Jarque-Bera (JB):               143.12\n",
      "Prob(Q):                              0.71   Prob(JB):                         0.00\n",
      "Heteroskedasticity (H):               0.63   Skew:                            -0.70\n",
      "Prob(H) (two-sided):                  0.02   Kurtosis:                         6.09\n",
      "===================================================================================\n",
      "\n",
      "Warnings:\n",
      "[1] Covariance matrix calculated using the outer product of gradients (complex-step).\n"
     ]
    }
   ],
   "source": [
    "print(\n",
    "    ARIMA(df.w, order=(3, 0, 1), trend='c')\n",
    "    .fit()\n",
    "    .summary()\n",
    ")\n",
    "# остатки - белый шум -> да\n",
    "# остатки гомоскедастичны -> нет (на 5%)\n",
    "# остатки распределены нормально -> нет\n",
    "# BIC -> 502.425"
   ]
  },
  {
   "cell_type": "code",
   "execution_count": null,
   "metadata": {},
   "outputs": [],
   "source": [
    "print(\n",
    "    ARIMA(df.w, order=(3, 0, 0), trend='c')\n",
    "    .fit()\n",
    "    .summary()\n",
    ")\n",
    "# остатки - белый шум -> да\n",
    "# остатки гомоскедастичны -> нет (на 5%)\n",
    "# остатки распределены нормально -> нет\n",
    "# BIC -> 502.416"
   ]
  },
  {
   "cell_type": "code",
   "execution_count": 22,
   "metadata": {},
   "outputs": [
    {
     "name": "stdout",
     "output_type": "stream",
     "text": [
      "                               SARIMAX Results                                \n",
      "==============================================================================\n",
      "Dep. Variable:                      w   No. Observations:                  299\n",
      "Model:                 ARIMA(2, 0, 2)   Log Likelihood                -234.106\n",
      "Date:                Wed, 27 Dec 2023   AIC                            480.213\n",
      "Time:                        14:45:56   BIC                            502.416\n",
      "Sample:                             0   HQIC                           489.099\n",
      "                                - 299                                         \n",
      "Covariance Type:                  opg                                         \n",
      "==============================================================================\n",
      "                 coef    std err          z      P>|z|      [0.025      0.975]\n",
      "------------------------------------------------------------------------------\n",
      "const          2.2684      0.038     59.264      0.000       2.193       2.343\n",
      "ar.L1         -0.3008      0.237     -1.269      0.204      -0.765       0.164\n",
      "ar.L2          0.2643      0.236      1.121      0.262      -0.198       0.726\n",
      "ma.L1          0.2057      0.250      0.823      0.410      -0.284       0.695\n",
      "ma.L2          0.0338      0.217      0.155      0.877      -0.392       0.460\n",
      "sigma2         0.2800      0.021     13.492      0.000       0.239       0.321\n",
      "===================================================================================\n",
      "Ljung-Box (L1) (Q):                   0.14   Jarque-Bera (JB):               143.35\n",
      "Prob(Q):                              0.71   Prob(JB):                         0.00\n",
      "Heteroskedasticity (H):               0.63   Skew:                            -0.70\n",
      "Prob(H) (two-sided):                  0.02   Kurtosis:                         6.09\n",
      "===================================================================================\n",
      "\n",
      "Warnings:\n",
      "[1] Covariance matrix calculated using the outer product of gradients (complex-step).\n"
     ]
    }
   ],
   "source": [
    "print(\n",
    "    ARIMA(df.w, order=(2, 0, 2), trend='c')\n",
    "    .fit()\n",
    "    .summary()\n",
    ")\n",
    "# остатки - белый шум -> да\n",
    "# остатки гомоскедастичны -> нет (на 5%)\n",
    "# остатки распределены нормально -> нет\n",
    "# BIC -> 502.416"
   ]
  },
  {
   "cell_type": "code",
   "execution_count": 23,
   "metadata": {},
   "outputs": [
    {
     "name": "stdout",
     "output_type": "stream",
     "text": [
      "                               SARIMAX Results                                \n",
      "==============================================================================\n",
      "Dep. Variable:                      w   No. Observations:                  299\n",
      "Model:                 ARIMA(2, 0, 1)   Log Likelihood                -234.118\n",
      "Date:                Wed, 27 Dec 2023   AIC                            478.237\n",
      "Time:                        14:47:03   BIC                            496.739\n",
      "Sample:                             0   HQIC                           485.642\n",
      "                                - 299                                         \n",
      "Covariance Type:                  opg                                         \n",
      "==============================================================================\n",
      "                 coef    std err          z      P>|z|      [0.025      0.975]\n",
      "------------------------------------------------------------------------------\n",
      "const          2.2681      0.039     58.593      0.000       2.192       2.344\n",
      "ar.L1         -0.2699      0.189     -1.428      0.153      -0.640       0.101\n",
      "ar.L2          0.2999      0.076      3.925      0.000       0.150       0.450\n",
      "ma.L1          0.1742      0.207      0.844      0.399      -0.231       0.579\n",
      "sigma2         0.2801      0.021     13.457      0.000       0.239       0.321\n",
      "===================================================================================\n",
      "Ljung-Box (L1) (Q):                   0.13   Jarque-Bera (JB):               142.77\n",
      "Prob(Q):                              0.72   Prob(JB):                         0.00\n",
      "Heteroskedasticity (H):               0.63   Skew:                            -0.70\n",
      "Prob(H) (two-sided):                  0.02   Kurtosis:                         6.09\n",
      "===================================================================================\n",
      "\n",
      "Warnings:\n",
      "[1] Covariance matrix calculated using the outer product of gradients (complex-step).\n"
     ]
    }
   ],
   "source": [
    "print(\n",
    "    ARIMA(df.w, order=(2, 0, 1), trend='c')\n",
    "    .fit()\n",
    "    .summary()\n",
    ")\n",
    "# остатки - белый шум -> да\n",
    "# остатки гомоскедастичны -> нет (на 5%)\n",
    "# остатки распределены нормально -> нет\n",
    "# BIC -> 496.739"
   ]
  },
  {
   "cell_type": "code",
   "execution_count": 24,
   "metadata": {},
   "outputs": [
    {
     "name": "stdout",
     "output_type": "stream",
     "text": [
      "                               SARIMAX Results                                \n",
      "==============================================================================\n",
      "Dep. Variable:                      w   No. Observations:                  299\n",
      "Model:                 ARIMA(2, 0, 0)   Log Likelihood                -234.569\n",
      "Date:                Wed, 27 Dec 2023   AIC                            477.139\n",
      "Time:                        14:47:28   BIC                            491.940\n",
      "Sample:                             0   HQIC                           483.063\n",
      "                                - 299                                         \n",
      "Covariance Type:                  opg                                         \n",
      "==============================================================================\n",
      "                 coef    std err          z      P>|z|      [0.025      0.975]\n",
      "------------------------------------------------------------------------------\n",
      "const          2.2668      0.041     55.609      0.000       2.187       2.347\n",
      "ar.L1         -0.1126      0.037     -3.027      0.002      -0.186      -0.040\n",
      "ar.L2          0.3312      0.063      5.300      0.000       0.209       0.454\n",
      "sigma2         0.2809      0.021     13.307      0.000       0.240       0.322\n",
      "===================================================================================\n",
      "Ljung-Box (L1) (Q):                   0.01   Jarque-Bera (JB):               141.21\n",
      "Prob(Q):                              0.94   Prob(JB):                         0.00\n",
      "Heteroskedasticity (H):               0.62   Skew:                            -0.70\n",
      "Prob(H) (two-sided):                  0.02   Kurtosis:                         6.06\n",
      "===================================================================================\n",
      "\n",
      "Warnings:\n",
      "[1] Covariance matrix calculated using the outer product of gradients (complex-step).\n"
     ]
    }
   ],
   "source": [
    "print(\n",
    "    ARIMA(df.w, order=(2, 0, 0), trend='c')\n",
    "    .fit()\n",
    "    .summary()\n",
    ")\n",
    "# остатки - белый шум -> да\n",
    "# остатки гомоскедастичны -> нет (на 5%)\n",
    "# остатки распределены нормально -> нет\n",
    "# BIC -> 491.940"
   ]
  },
  {
   "cell_type": "code",
   "execution_count": 25,
   "metadata": {},
   "outputs": [
    {
     "name": "stdout",
     "output_type": "stream",
     "text": [
      "                               SARIMAX Results                                \n",
      "==============================================================================\n",
      "Dep. Variable:                      w   No. Observations:                  299\n",
      "Model:                 ARIMA(1, 0, 2)   Log Likelihood                -234.568\n",
      "Date:                Wed, 27 Dec 2023   AIC                            479.137\n",
      "Time:                        14:49:03   BIC                            497.639\n",
      "Sample:                             0   HQIC                           486.542\n",
      "                                - 299                                         \n",
      "Covariance Type:                  opg                                         \n",
      "==============================================================================\n",
      "                 coef    std err          z      P>|z|      [0.025      0.975]\n",
      "------------------------------------------------------------------------------\n",
      "const          2.2703      0.035     64.813      0.000       2.202       2.339\n",
      "ar.L1         -0.5781      0.147     -3.931      0.000      -0.866      -0.290\n",
      "ma.L1          0.4742      0.159      2.986      0.003       0.163       0.786\n",
      "ma.L2          0.2386      0.069      3.466      0.001       0.104       0.373\n",
      "sigma2         0.2809      0.020     13.991      0.000       0.242       0.320\n",
      "===================================================================================\n",
      "Ljung-Box (L1) (Q):                   0.04   Jarque-Bera (JB):               164.15\n",
      "Prob(Q):                              0.85   Prob(JB):                         0.00\n",
      "Heteroskedasticity (H):               0.63   Skew:                            -0.73\n",
      "Prob(H) (two-sided):                  0.02   Kurtosis:                         6.32\n",
      "===================================================================================\n",
      "\n",
      "Warnings:\n",
      "[1] Covariance matrix calculated using the outer product of gradients (complex-step).\n"
     ]
    }
   ],
   "source": [
    "print(\n",
    "    ARIMA(df.w, order=(1, 0, 2), trend='c')\n",
    "    .fit()\n",
    "    .summary()\n",
    ")\n",
    "# остатки - белый шум -> да\n",
    "# остатки гомоскедастичны -> нет (на 5%)\n",
    "# остатки распределены нормально -> нет\n",
    "# BIC -> 497.639"
   ]
  },
  {
   "cell_type": "code",
   "execution_count": 26,
   "metadata": {},
   "outputs": [
    {
     "name": "stdout",
     "output_type": "stream",
     "text": [
      "                               SARIMAX Results                                \n",
      "==============================================================================\n",
      "Dep. Variable:                      w   No. Observations:                  299\n",
      "Model:                 ARIMA(1, 0, 1)   Log Likelihood                -239.821\n",
      "Date:                Wed, 27 Dec 2023   AIC                            487.641\n",
      "Time:                        14:49:20   BIC                            502.443\n",
      "Sample:                             0   HQIC                           493.566\n",
      "                                - 299                                         \n",
      "Covariance Type:                  opg                                         \n",
      "==============================================================================\n",
      "                 coef    std err          z      P>|z|      [0.025      0.975]\n",
      "------------------------------------------------------------------------------\n",
      "const          2.2729      0.030     76.375      0.000       2.215       2.331\n",
      "ar.L1         -0.8126      0.105     -7.744      0.000      -1.018      -0.607\n",
      "ma.L1          0.6244      0.132      4.740      0.000       0.366       0.883\n",
      "sigma2         0.2910      0.018     15.924      0.000       0.255       0.327\n",
      "===================================================================================\n",
      "Ljung-Box (L1) (Q):                   1.94   Jarque-Bera (JB):               259.15\n",
      "Prob(Q):                              0.16   Prob(JB):                         0.00\n",
      "Heteroskedasticity (H):               0.58   Skew:                            -0.85\n",
      "Prob(H) (two-sided):                  0.01   Kurtosis:                         7.23\n",
      "===================================================================================\n",
      "\n",
      "Warnings:\n",
      "[1] Covariance matrix calculated using the outer product of gradients (complex-step).\n"
     ]
    }
   ],
   "source": [
    "print(\n",
    "    ARIMA(df.w, order=(1, 0, 1), trend='c')\n",
    "    .fit()\n",
    "    .summary()\n",
    ")\n",
    "# остатки - белый шум -> да\n",
    "# остатки гомоскедастичны -> нет (на 5%)\n",
    "# остатки распределены нормально -> нет\n",
    "# BIC -> 502.443"
   ]
  },
  {
   "cell_type": "code",
   "execution_count": 27,
   "metadata": {},
   "outputs": [
    {
     "name": "stdout",
     "output_type": "stream",
     "text": [
      "                               SARIMAX Results                                \n",
      "==============================================================================\n",
      "Dep. Variable:                      w   No. Observations:                  299\n",
      "Model:                 ARIMA(1, 0, 0)   Log Likelihood                -249.011\n",
      "Date:                Wed, 27 Dec 2023   AIC                            504.022\n",
      "Time:                        14:49:48   BIC                            515.123\n",
      "Sample:                             0   HQIC                           508.465\n",
      "                                - 299                                         \n",
      "Covariance Type:                  opg                                         \n",
      "==============================================================================\n",
      "                 coef    std err          z      P>|z|      [0.025      0.975]\n",
      "------------------------------------------------------------------------------\n",
      "const          2.2743      0.029     79.576      0.000       2.218       2.330\n",
      "ar.L1         -0.2001      0.046     -4.354      0.000      -0.290      -0.110\n",
      "sigma2         0.3096      0.019     16.070      0.000       0.272       0.347\n",
      "===================================================================================\n",
      "Ljung-Box (L1) (Q):                   1.29   Jarque-Bera (JB):               200.56\n",
      "Prob(Q):                              0.26   Prob(JB):                         0.00\n",
      "Heteroskedasticity (H):               0.57   Skew:                            -0.79\n",
      "Prob(H) (two-sided):                  0.01   Kurtosis:                         6.69\n",
      "===================================================================================\n",
      "\n",
      "Warnings:\n",
      "[1] Covariance matrix calculated using the outer product of gradients (complex-step).\n"
     ]
    }
   ],
   "source": [
    "print(\n",
    "    ARIMA(df.w, order=(1, 0, 0), trend='c')\n",
    "    .fit()\n",
    "    .summary()\n",
    ")\n",
    "# остатки - белый шум -> да\n",
    "# остатки гомоскедастичны -> нет (на 5%)\n",
    "# остатки распределены нормально -> нет\n",
    "# BIC -> 515.123"
   ]
  },
  {
   "cell_type": "markdown",
   "metadata": {},
   "source": [
    "Результаты статистических тестов у всех моделей одинаковые, поэтому осуществим выбор модели по информационному критерию: наилучший он у модели ARIMA(2, 0, 0), поэтому остановимся на ней. \n",
    "\n",
    "**Вывод:** Далее будем рассматривать модель ARIMA(2, 0, 0). "
   ]
  },
  {
   "cell_type": "code",
   "execution_count": 28,
   "metadata": {},
   "outputs": [
    {
     "name": "stdout",
     "output_type": "stream",
     "text": [
      "                               SARIMAX Results                                \n",
      "==============================================================================\n",
      "Dep. Variable:                      w   No. Observations:                  299\n",
      "Model:                 ARIMA(2, 0, 0)   Log Likelihood                -234.569\n",
      "Date:                Wed, 27 Dec 2023   AIC                            477.139\n",
      "Time:                        14:55:51   BIC                            491.940\n",
      "Sample:                             0   HQIC                           483.063\n",
      "                                - 299                                         \n",
      "Covariance Type:                  opg                                         \n",
      "==============================================================================\n",
      "                 coef    std err          z      P>|z|      [0.025      0.975]\n",
      "------------------------------------------------------------------------------\n",
      "const          2.2668      0.041     55.609      0.000       2.187       2.347\n",
      "ar.L1         -0.1126      0.037     -3.027      0.002      -0.186      -0.040\n",
      "ar.L2          0.3312      0.063      5.300      0.000       0.209       0.454\n",
      "sigma2         0.2809      0.021     13.307      0.000       0.240       0.322\n",
      "===================================================================================\n",
      "Ljung-Box (L1) (Q):                   0.01   Jarque-Bera (JB):               141.21\n",
      "Prob(Q):                              0.94   Prob(JB):                         0.00\n",
      "Heteroskedasticity (H):               0.62   Skew:                            -0.70\n",
      "Prob(H) (two-sided):                  0.02   Kurtosis:                         6.06\n",
      "===================================================================================\n",
      "\n",
      "Warnings:\n",
      "[1] Covariance matrix calculated using the outer product of gradients (complex-step).\n"
     ]
    }
   ],
   "source": [
    "print(\n",
    "    ARIMA(df.w, order=(2, 0, 0), trend='c')\n",
    "    .fit()\n",
    "    .summary()\n",
    ")\n",
    "# остатки - белый шум -> да\n",
    "# остатки гомоскедастичны -> нет (на 5%)\n",
    "# остатки распределены нормально -> нет\n",
    "# BIC -> 491.940"
   ]
  },
  {
   "cell_type": "markdown",
   "metadata": {},
   "source": [
    "<small> Уровень значимости по умолчанию: 5% </small>"
   ]
  },
  {
   "cell_type": "markdown",
   "metadata": {},
   "source": [
    "$$\n",
    "\\widehat{y}_t = \\underset{(0.041)^{***}}{2.2668} - \\underset{(0.037)^{***}}{0.1126} y_{t-1} + \\underset{(0.063)^{***}}{0.3312} y_{t-2}\n",
    "$$"
   ]
  },
  {
   "cell_type": "markdown",
   "metadata": {},
   "source": [
    "### Пункт б)"
   ]
  },
  {
   "cell_type": "markdown",
   "metadata": {},
   "source": [
    "Будем строить прогноз на 1 период вперед"
   ]
  },
  {
   "cell_type": "code",
   "execution_count": 29,
   "metadata": {},
   "outputs": [
    {
     "data": {
      "text/html": [
       "<div>\n",
       "<style scoped>\n",
       "    .dataframe tbody tr th:only-of-type {\n",
       "        vertical-align: middle;\n",
       "    }\n",
       "\n",
       "    .dataframe tbody tr th {\n",
       "        vertical-align: top;\n",
       "    }\n",
       "\n",
       "    .dataframe thead th {\n",
       "        text-align: right;\n",
       "    }\n",
       "</style>\n",
       "<table border=\"1\" class=\"dataframe\">\n",
       "  <thead>\n",
       "    <tr style=\"text-align: right;\">\n",
       "      <th>w</th>\n",
       "      <th>mean</th>\n",
       "      <th>mean_se</th>\n",
       "      <th>mean_ci_lower</th>\n",
       "      <th>mean_ci_upper</th>\n",
       "    </tr>\n",
       "  </thead>\n",
       "  <tbody>\n",
       "    <tr>\n",
       "      <th>299</th>\n",
       "      <td>2.425996</td>\n",
       "      <td>0.530004</td>\n",
       "      <td>1.387208</td>\n",
       "      <td>3.464784</td>\n",
       "    </tr>\n",
       "  </tbody>\n",
       "</table>\n",
       "</div>"
      ],
      "text/plain": [
       "w        mean   mean_se  mean_ci_lower  mean_ci_upper\n",
       "299  2.425996  0.530004       1.387208       3.464784"
      ]
     },
     "execution_count": 29,
     "metadata": {},
     "output_type": "execute_result"
    }
   ],
   "source": [
    "best_model = ARIMA(df.w, order=(2, 0, 0), trend='c').fit()\n",
    "FC = best_model.get_forecast(steps=1)\n",
    "FC.summary_frame()"
   ]
  },
  {
   "cell_type": "markdown",
   "metadata": {},
   "source": [
    "**Прогноз на 1 период вперед:**\n",
    "\n",
    "Прогнозное значение = 2.425996, ДИ = (1.387208, 3.464784)"
   ]
  },
  {
   "cell_type": "markdown",
   "metadata": {},
   "source": [
    "### Пункт в)"
   ]
  },
  {
   "cell_type": "code",
   "execution_count": 33,
   "metadata": {},
   "outputs": [
    {
     "data": {
      "text/html": [
       "<div>\n",
       "<style scoped>\n",
       "    .dataframe tbody tr th:only-of-type {\n",
       "        vertical-align: middle;\n",
       "    }\n",
       "\n",
       "    .dataframe tbody tr th {\n",
       "        vertical-align: top;\n",
       "    }\n",
       "\n",
       "    .dataframe thead th {\n",
       "        text-align: right;\n",
       "    }\n",
       "</style>\n",
       "<table border=\"1\" class=\"dataframe\">\n",
       "  <thead>\n",
       "    <tr style=\"text-align: right;\">\n",
       "      <th></th>\n",
       "      <th>w</th>\n",
       "      <th>v</th>\n",
       "      <th>q</th>\n",
       "    </tr>\n",
       "  </thead>\n",
       "  <tbody>\n",
       "    <tr>\n",
       "      <th>0</th>\n",
       "      <td>0.200898</td>\n",
       "      <td>0.803591</td>\n",
       "      <td>8.014130</td>\n",
       "    </tr>\n",
       "    <tr>\n",
       "      <th>1</th>\n",
       "      <td>-0.565659</td>\n",
       "      <td>-2.262637</td>\n",
       "      <td>8.003101</td>\n",
       "    </tr>\n",
       "    <tr>\n",
       "      <th>2</th>\n",
       "      <td>2.233380</td>\n",
       "      <td>-0.833036</td>\n",
       "      <td>5.973488</td>\n",
       "    </tr>\n",
       "    <tr>\n",
       "      <th>3</th>\n",
       "      <td>1.385686</td>\n",
       "      <td>-3.747280</td>\n",
       "      <td>5.191956</td>\n",
       "    </tr>\n",
       "    <tr>\n",
       "      <th>4</th>\n",
       "      <td>3.029379</td>\n",
       "      <td>-2.603950</td>\n",
       "      <td>4.615604</td>\n",
       "    </tr>\n",
       "    <tr>\n",
       "      <th>...</th>\n",
       "      <td>...</td>\n",
       "      <td>...</td>\n",
       "      <td>...</td>\n",
       "    </tr>\n",
       "    <tr>\n",
       "      <th>294</th>\n",
       "      <td>2.680523</td>\n",
       "      <td>-213.706234</td>\n",
       "      <td>3.839535</td>\n",
       "    </tr>\n",
       "    <tr>\n",
       "      <th>295</th>\n",
       "      <td>1.669260</td>\n",
       "      <td>-215.926995</td>\n",
       "      <td>4.444583</td>\n",
       "    </tr>\n",
       "    <tr>\n",
       "      <th>296</th>\n",
       "      <td>2.783687</td>\n",
       "      <td>-215.781501</td>\n",
       "      <td>4.525222</td>\n",
       "    </tr>\n",
       "    <tr>\n",
       "      <th>297</th>\n",
       "      <td>2.550734</td>\n",
       "      <td>-214.540925</td>\n",
       "      <td>4.401659</td>\n",
       "    </tr>\n",
       "    <tr>\n",
       "      <th>298</th>\n",
       "      <td>1.688201</td>\n",
       "      <td>-216.253970</td>\n",
       "      <td>4.472534</td>\n",
       "    </tr>\n",
       "  </tbody>\n",
       "</table>\n",
       "<p>299 rows × 3 columns</p>\n",
       "</div>"
      ],
      "text/plain": [
       "            w           v         q\n",
       "0    0.200898    0.803591  8.014130\n",
       "1   -0.565659   -2.262637  8.003101\n",
       "2    2.233380   -0.833036  5.973488\n",
       "3    1.385686   -3.747280  5.191956\n",
       "4    3.029379   -2.603950  4.615604\n",
       "..        ...         ...       ...\n",
       "294  2.680523 -213.706234  3.839535\n",
       "295  1.669260 -215.926995  4.444583\n",
       "296  2.783687 -215.781501  4.525222\n",
       "297  2.550734 -214.540925  4.401659\n",
       "298  1.688201 -216.253970  4.472534\n",
       "\n",
       "[299 rows x 3 columns]"
      ]
     },
     "execution_count": 33,
     "metadata": {},
     "output_type": "execute_result"
    }
   ],
   "source": [
    "df"
   ]
  },
  {
   "cell_type": "markdown",
   "metadata": {},
   "source": [
    "Здесь мы подберем наилучшую модель при помощи `auto_arima`"
   ]
  },
  {
   "cell_type": "code",
   "execution_count": 36,
   "metadata": {},
   "outputs": [
    {
     "data": {
      "text/plain": [
       "(ARIMA(order=(0, 1, 3), scoring_args={}, suppress_warnings=True),\n",
       " ARIMA(order=(1, 1, 2), scoring_args={}, suppress_warnings=True),\n",
       " ARIMA(order=(1, 1, 3), scoring_args={}, suppress_warnings=True),\n",
       " ARIMA(order=(0, 1, 4), scoring_args={}, suppress_warnings=True),\n",
       " ARIMA(order=(2, 1, 2), scoring_args={}, suppress_warnings=True),\n",
       " ARIMA(order=(0, 1, 2), scoring_args={}, suppress_warnings=True),\n",
       " ARIMA(order=(0, 1, 3), scoring_args={}, suppress_warnings=True,\n",
       "       with_intercept=False),\n",
       " ARIMA(order=(1, 1, 4), scoring_args={}, suppress_warnings=True),\n",
       " ARIMA(order=(1, 1, 0), scoring_args={}, suppress_warnings=True),\n",
       " ARIMA(order=(1, 1, 1), scoring_args={}, suppress_warnings=True),\n",
       " ARIMA(order=(0, 1, 1), scoring_args={}, suppress_warnings=True),\n",
       " ARIMA(order=(0, 1, 0), scoring_args={}, suppress_warnings=True),\n",
       " ARIMA(order=(0, 1, 0), scoring_args={}, suppress_warnings=True,\n",
       "       with_intercept=False))"
      ]
     },
     "execution_count": 36,
     "metadata": {},
     "output_type": "execute_result"
    }
   ],
   "source": [
    "auto_arima(\n",
    "    df.v, information_criterion='bic', return_valid_fits=True\n",
    ")"
   ]
  },
  {
   "cell_type": "code",
   "execution_count": 37,
   "metadata": {},
   "outputs": [
    {
     "data": {
      "text/html": [
       "<table class=\"simpletable\">\n",
       "<caption>SARIMAX Results</caption>\n",
       "<tr>\n",
       "  <th>Dep. Variable:</th>           <td>y</td>        <th>  No. Observations:  </th>    <td>299</td>  \n",
       "</tr>\n",
       "<tr>\n",
       "  <th>Model:</th>           <td>SARIMAX(0, 1, 3)</td> <th>  Log Likelihood     </th> <td>-624.001</td>\n",
       "</tr>\n",
       "<tr>\n",
       "  <th>Date:</th>            <td>Wed, 27 Dec 2023</td> <th>  AIC                </th> <td>1258.002</td>\n",
       "</tr>\n",
       "<tr>\n",
       "  <th>Time:</th>                <td>15:10:42</td>     <th>  BIC                </th> <td>1276.488</td>\n",
       "</tr>\n",
       "<tr>\n",
       "  <th>Sample:</th>                  <td>0</td>        <th>  HQIC               </th> <td>1265.402</td>\n",
       "</tr>\n",
       "<tr>\n",
       "  <th></th>                      <td> - 299</td>      <th>                     </th>     <td> </td>   \n",
       "</tr>\n",
       "<tr>\n",
       "  <th>Covariance Type:</th>        <td>opg</td>       <th>                     </th>     <td> </td>   \n",
       "</tr>\n",
       "</table>\n",
       "<table class=\"simpletable\">\n",
       "<tr>\n",
       "      <td></td>         <th>coef</th>     <th>std err</th>      <th>z</th>      <th>P>|z|</th>  <th>[0.025</th>    <th>0.975]</th>  \n",
       "</tr>\n",
       "<tr>\n",
       "  <th>intercept</th> <td>   -0.7379</td> <td>    0.186</td> <td>   -3.970</td> <td> 0.000</td> <td>   -1.102</td> <td>   -0.374</td>\n",
       "</tr>\n",
       "<tr>\n",
       "  <th>ma.L1</th>     <td>    0.5396</td> <td>    0.057</td> <td>    9.505</td> <td> 0.000</td> <td>    0.428</td> <td>    0.651</td>\n",
       "</tr>\n",
       "<tr>\n",
       "  <th>ma.L2</th>     <td>    0.3108</td> <td>    0.062</td> <td>    4.998</td> <td> 0.000</td> <td>    0.189</td> <td>    0.433</td>\n",
       "</tr>\n",
       "<tr>\n",
       "  <th>ma.L3</th>     <td>   -0.2235</td> <td>    0.054</td> <td>   -4.112</td> <td> 0.000</td> <td>   -0.330</td> <td>   -0.117</td>\n",
       "</tr>\n",
       "<tr>\n",
       "  <th>sigma2</th>    <td>    3.8468</td> <td>    0.341</td> <td>   11.283</td> <td> 0.000</td> <td>    3.179</td> <td>    4.515</td>\n",
       "</tr>\n",
       "</table>\n",
       "<table class=\"simpletable\">\n",
       "<tr>\n",
       "  <th>Ljung-Box (L1) (Q):</th>     <td>0.00</td> <th>  Jarque-Bera (JB):  </th> <td>0.70</td>\n",
       "</tr>\n",
       "<tr>\n",
       "  <th>Prob(Q):</th>                <td>0.96</td> <th>  Prob(JB):          </th> <td>0.70</td>\n",
       "</tr>\n",
       "<tr>\n",
       "  <th>Heteroskedasticity (H):</th> <td>0.83</td> <th>  Skew:              </th> <td>0.00</td>\n",
       "</tr>\n",
       "<tr>\n",
       "  <th>Prob(H) (two-sided):</th>    <td>0.37</td> <th>  Kurtosis:          </th> <td>2.76</td>\n",
       "</tr>\n",
       "</table><br/><br/>Warnings:<br/>[1] Covariance matrix calculated using the outer product of gradients (complex-step)."
      ],
      "text/latex": [
       "\\begin{center}\n",
       "\\begin{tabular}{lclc}\n",
       "\\toprule\n",
       "\\textbf{Dep. Variable:}          &        y         & \\textbf{  No. Observations:  } &    299      \\\\\n",
       "\\textbf{Model:}                  & SARIMAX(0, 1, 3) & \\textbf{  Log Likelihood     } &  -624.001   \\\\\n",
       "\\textbf{Date:}                   & Wed, 27 Dec 2023 & \\textbf{  AIC                } &  1258.002   \\\\\n",
       "\\textbf{Time:}                   &     15:10:42     & \\textbf{  BIC                } &  1276.488   \\\\\n",
       "\\textbf{Sample:}                 &        0         & \\textbf{  HQIC               } &  1265.402   \\\\\n",
       "\\textbf{}                        &       - 299      & \\textbf{                     } &             \\\\\n",
       "\\textbf{Covariance Type:}        &       opg        & \\textbf{                     } &             \\\\\n",
       "\\bottomrule\n",
       "\\end{tabular}\n",
       "\\begin{tabular}{lcccccc}\n",
       "                   & \\textbf{coef} & \\textbf{std err} & \\textbf{z} & \\textbf{P$> |$z$|$} & \\textbf{[0.025} & \\textbf{0.975]}  \\\\\n",
       "\\midrule\n",
       "\\textbf{intercept} &      -0.7379  &        0.186     &    -3.970  &         0.000        &       -1.102    &       -0.374     \\\\\n",
       "\\textbf{ma.L1}     &       0.5396  &        0.057     &     9.505  &         0.000        &        0.428    &        0.651     \\\\\n",
       "\\textbf{ma.L2}     &       0.3108  &        0.062     &     4.998  &         0.000        &        0.189    &        0.433     \\\\\n",
       "\\textbf{ma.L3}     &      -0.2235  &        0.054     &    -4.112  &         0.000        &       -0.330    &       -0.117     \\\\\n",
       "\\textbf{sigma2}    &       3.8468  &        0.341     &    11.283  &         0.000        &        3.179    &        4.515     \\\\\n",
       "\\bottomrule\n",
       "\\end{tabular}\n",
       "\\begin{tabular}{lclc}\n",
       "\\textbf{Ljung-Box (L1) (Q):}     & 0.00 & \\textbf{  Jarque-Bera (JB):  } & 0.70  \\\\\n",
       "\\textbf{Prob(Q):}                & 0.96 & \\textbf{  Prob(JB):          } & 0.70  \\\\\n",
       "\\textbf{Heteroskedasticity (H):} & 0.83 & \\textbf{  Skew:              } & 0.00  \\\\\n",
       "\\textbf{Prob(H) (two-sided):}    & 0.37 & \\textbf{  Kurtosis:          } & 2.76  \\\\\n",
       "\\bottomrule\n",
       "\\end{tabular}\n",
       "%\\caption{SARIMAX Results}\n",
       "\\end{center}\n",
       "\n",
       "Warnings: \\newline\n",
       " [1] Covariance matrix calculated using the outer product of gradients (complex-step)."
      ],
      "text/plain": [
       "<class 'statsmodels.iolib.summary.Summary'>\n",
       "\"\"\"\n",
       "                               SARIMAX Results                                \n",
       "==============================================================================\n",
       "Dep. Variable:                      y   No. Observations:                  299\n",
       "Model:               SARIMAX(0, 1, 3)   Log Likelihood                -624.001\n",
       "Date:                Wed, 27 Dec 2023   AIC                           1258.002\n",
       "Time:                        15:10:42   BIC                           1276.488\n",
       "Sample:                             0   HQIC                          1265.402\n",
       "                                - 299                                         \n",
       "Covariance Type:                  opg                                         \n",
       "==============================================================================\n",
       "                 coef    std err          z      P>|z|      [0.025      0.975]\n",
       "------------------------------------------------------------------------------\n",
       "intercept     -0.7379      0.186     -3.970      0.000      -1.102      -0.374\n",
       "ma.L1          0.5396      0.057      9.505      0.000       0.428       0.651\n",
       "ma.L2          0.3108      0.062      4.998      0.000       0.189       0.433\n",
       "ma.L3         -0.2235      0.054     -4.112      0.000      -0.330      -0.117\n",
       "sigma2         3.8468      0.341     11.283      0.000       3.179       4.515\n",
       "===================================================================================\n",
       "Ljung-Box (L1) (Q):                   0.00   Jarque-Bera (JB):                 0.70\n",
       "Prob(Q):                              0.96   Prob(JB):                         0.70\n",
       "Heteroskedasticity (H):               0.83   Skew:                             0.00\n",
       "Prob(H) (two-sided):                  0.37   Kurtosis:                         2.76\n",
       "===================================================================================\n",
       "\n",
       "Warnings:\n",
       "[1] Covariance matrix calculated using the outer product of gradients (complex-step).\n",
       "\"\"\""
      ]
     },
     "execution_count": 37,
     "metadata": {},
     "output_type": "execute_result"
    }
   ],
   "source": [
    "auto_arima(\n",
    "    df.v, information_criterion='bic'\n",
    ").summary()"
   ]
  },
  {
   "cell_type": "markdown",
   "metadata": {},
   "source": [
    "Для ряда `v` наилучшей моделью оказалась ARIMA(0, 1, 3). \n",
    "\n",
    "Заметим, что все нулевые гипотезы ниже не отвергаются, то есть модель хорошая. \n",
    "\n",
    "- **Ljung-Box** :\n",
    "\n",
    "  - $H_0$ &mdash; остатки - белый шум\n",
    "\n",
    "<br>\n",
    "\n",
    "- **Heteroskedasticity** :\n",
    "\n",
    "  - $H_0$ &mdash; остатки гомоскедастичны (тест Уайта)\n",
    "\n",
    "<br>\n",
    "\n",
    "- **Jarque-Bera** :\n",
    "\n",
    "  - $H_0$ &mdash; остатки распределены нормально"
   ]
  },
  {
   "cell_type": "code",
   "execution_count": 40,
   "metadata": {},
   "outputs": [
    {
     "data": {
      "text/html": [
       "<table class=\"simpletable\">\n",
       "<caption>SARIMAX Results</caption>\n",
       "<tr>\n",
       "  <th>Dep. Variable:</th>           <td>y</td>        <th>  No. Observations:  </th>    <td>299</td>  \n",
       "</tr>\n",
       "<tr>\n",
       "  <th>Model:</th>           <td>SARIMAX(2, 0, 2)</td> <th>  Log Likelihood     </th> <td>-214.437</td>\n",
       "</tr>\n",
       "<tr>\n",
       "  <th>Date:</th>            <td>Wed, 27 Dec 2023</td> <th>  AIC                </th>  <td>440.874</td>\n",
       "</tr>\n",
       "<tr>\n",
       "  <th>Time:</th>                <td>15:17:18</td>     <th>  BIC                </th>  <td>463.077</td>\n",
       "</tr>\n",
       "<tr>\n",
       "  <th>Sample:</th>                  <td>0</td>        <th>  HQIC               </th>  <td>449.761</td>\n",
       "</tr>\n",
       "<tr>\n",
       "  <th></th>                      <td> - 299</td>      <th>                     </th>     <td> </td>   \n",
       "</tr>\n",
       "<tr>\n",
       "  <th>Covariance Type:</th>        <td>opg</td>       <th>                     </th>     <td> </td>   \n",
       "</tr>\n",
       "</table>\n",
       "<table class=\"simpletable\">\n",
       "<tr>\n",
       "      <td></td>         <th>coef</th>     <th>std err</th>      <th>z</th>      <th>P>|z|</th>  <th>[0.025</th>    <th>0.975]</th>  \n",
       "</tr>\n",
       "<tr>\n",
       "  <th>intercept</th> <td>    1.6176</td> <td>    0.218</td> <td>    7.419</td> <td> 0.000</td> <td>    1.190</td> <td>    2.045</td>\n",
       "</tr>\n",
       "<tr>\n",
       "  <th>ar.L1</th>     <td>    1.0246</td> <td>    0.118</td> <td>    8.654</td> <td> 0.000</td> <td>    0.793</td> <td>    1.257</td>\n",
       "</tr>\n",
       "<tr>\n",
       "  <th>ar.L2</th>     <td>   -0.3844</td> <td>    0.099</td> <td>   -3.902</td> <td> 0.000</td> <td>   -0.577</td> <td>   -0.191</td>\n",
       "</tr>\n",
       "<tr>\n",
       "  <th>ma.L1</th>     <td>    0.4596</td> <td>    0.123</td> <td>    3.744</td> <td> 0.000</td> <td>    0.219</td> <td>    0.700</td>\n",
       "</tr>\n",
       "<tr>\n",
       "  <th>ma.L2</th>     <td>    0.3513</td> <td>    0.092</td> <td>    3.803</td> <td> 0.000</td> <td>    0.170</td> <td>    0.532</td>\n",
       "</tr>\n",
       "<tr>\n",
       "  <th>sigma2</th>    <td>    0.2436</td> <td>    0.021</td> <td>   11.590</td> <td> 0.000</td> <td>    0.202</td> <td>    0.285</td>\n",
       "</tr>\n",
       "</table>\n",
       "<table class=\"simpletable\">\n",
       "<tr>\n",
       "  <th>Ljung-Box (L1) (Q):</th>     <td>0.03</td> <th>  Jarque-Bera (JB):  </th> <td>4.01</td>\n",
       "</tr>\n",
       "<tr>\n",
       "  <th>Prob(Q):</th>                <td>0.87</td> <th>  Prob(JB):          </th> <td>0.13</td>\n",
       "</tr>\n",
       "<tr>\n",
       "  <th>Heteroskedasticity (H):</th> <td>0.94</td> <th>  Skew:              </th> <td>0.28</td>\n",
       "</tr>\n",
       "<tr>\n",
       "  <th>Prob(H) (two-sided):</th>    <td>0.74</td> <th>  Kurtosis:          </th> <td>2.94</td>\n",
       "</tr>\n",
       "</table><br/><br/>Warnings:<br/>[1] Covariance matrix calculated using the outer product of gradients (complex-step)."
      ],
      "text/latex": [
       "\\begin{center}\n",
       "\\begin{tabular}{lclc}\n",
       "\\toprule\n",
       "\\textbf{Dep. Variable:}          &        y         & \\textbf{  No. Observations:  } &    299      \\\\\n",
       "\\textbf{Model:}                  & SARIMAX(2, 0, 2) & \\textbf{  Log Likelihood     } &  -214.437   \\\\\n",
       "\\textbf{Date:}                   & Wed, 27 Dec 2023 & \\textbf{  AIC                } &  440.874    \\\\\n",
       "\\textbf{Time:}                   &     15:17:18     & \\textbf{  BIC                } &  463.077    \\\\\n",
       "\\textbf{Sample:}                 &        0         & \\textbf{  HQIC               } &  449.761    \\\\\n",
       "\\textbf{}                        &       - 299      & \\textbf{                     } &             \\\\\n",
       "\\textbf{Covariance Type:}        &       opg        & \\textbf{                     } &             \\\\\n",
       "\\bottomrule\n",
       "\\end{tabular}\n",
       "\\begin{tabular}{lcccccc}\n",
       "                   & \\textbf{coef} & \\textbf{std err} & \\textbf{z} & \\textbf{P$> |$z$|$} & \\textbf{[0.025} & \\textbf{0.975]}  \\\\\n",
       "\\midrule\n",
       "\\textbf{intercept} &       1.6176  &        0.218     &     7.419  &         0.000        &        1.190    &        2.045     \\\\\n",
       "\\textbf{ar.L1}     &       1.0246  &        0.118     &     8.654  &         0.000        &        0.793    &        1.257     \\\\\n",
       "\\textbf{ar.L2}     &      -0.3844  &        0.099     &    -3.902  &         0.000        &       -0.577    &       -0.191     \\\\\n",
       "\\textbf{ma.L1}     &       0.4596  &        0.123     &     3.744  &         0.000        &        0.219    &        0.700     \\\\\n",
       "\\textbf{ma.L2}     &       0.3513  &        0.092     &     3.803  &         0.000        &        0.170    &        0.532     \\\\\n",
       "\\textbf{sigma2}    &       0.2436  &        0.021     &    11.590  &         0.000        &        0.202    &        0.285     \\\\\n",
       "\\bottomrule\n",
       "\\end{tabular}\n",
       "\\begin{tabular}{lclc}\n",
       "\\textbf{Ljung-Box (L1) (Q):}     & 0.03 & \\textbf{  Jarque-Bera (JB):  } & 4.01  \\\\\n",
       "\\textbf{Prob(Q):}                & 0.87 & \\textbf{  Prob(JB):          } & 0.13  \\\\\n",
       "\\textbf{Heteroskedasticity (H):} & 0.94 & \\textbf{  Skew:              } & 0.28  \\\\\n",
       "\\textbf{Prob(H) (two-sided):}    & 0.74 & \\textbf{  Kurtosis:          } & 2.94  \\\\\n",
       "\\bottomrule\n",
       "\\end{tabular}\n",
       "%\\caption{SARIMAX Results}\n",
       "\\end{center}\n",
       "\n",
       "Warnings: \\newline\n",
       " [1] Covariance matrix calculated using the outer product of gradients (complex-step)."
      ],
      "text/plain": [
       "<class 'statsmodels.iolib.summary.Summary'>\n",
       "\"\"\"\n",
       "                               SARIMAX Results                                \n",
       "==============================================================================\n",
       "Dep. Variable:                      y   No. Observations:                  299\n",
       "Model:               SARIMAX(2, 0, 2)   Log Likelihood                -214.437\n",
       "Date:                Wed, 27 Dec 2023   AIC                            440.874\n",
       "Time:                        15:17:18   BIC                            463.077\n",
       "Sample:                             0   HQIC                           449.761\n",
       "                                - 299                                         \n",
       "Covariance Type:                  opg                                         \n",
       "==============================================================================\n",
       "                 coef    std err          z      P>|z|      [0.025      0.975]\n",
       "------------------------------------------------------------------------------\n",
       "intercept      1.6176      0.218      7.419      0.000       1.190       2.045\n",
       "ar.L1          1.0246      0.118      8.654      0.000       0.793       1.257\n",
       "ar.L2         -0.3844      0.099     -3.902      0.000      -0.577      -0.191\n",
       "ma.L1          0.4596      0.123      3.744      0.000       0.219       0.700\n",
       "ma.L2          0.3513      0.092      3.803      0.000       0.170       0.532\n",
       "sigma2         0.2436      0.021     11.590      0.000       0.202       0.285\n",
       "===================================================================================\n",
       "Ljung-Box (L1) (Q):                   0.03   Jarque-Bera (JB):                 4.01\n",
       "Prob(Q):                              0.87   Prob(JB):                         0.13\n",
       "Heteroskedasticity (H):               0.94   Skew:                             0.28\n",
       "Prob(H) (two-sided):                  0.74   Kurtosis:                         2.94\n",
       "===================================================================================\n",
       "\n",
       "Warnings:\n",
       "[1] Covariance matrix calculated using the outer product of gradients (complex-step).\n",
       "\"\"\""
      ]
     },
     "execution_count": 40,
     "metadata": {},
     "output_type": "execute_result"
    }
   ],
   "source": [
    "auto_arima(\n",
    "    df.q, information_criterion='bic'\n",
    ").summary()"
   ]
  },
  {
   "cell_type": "markdown",
   "metadata": {},
   "source": [
    "Для ряда `q` наилучшей моделью оказалась ARIMA(2, 0, 2). \n",
    "\n",
    "Заметим, что все нулевые гипотезы ниже не отвергаются, то есть модель хорошая. \n",
    "\n",
    "- **Ljung-Box** :\n",
    "\n",
    "  - $H_0$ &mdash; остатки - белый шум\n",
    "\n",
    "<br>\n",
    "\n",
    "- **Heteroskedasticity** :\n",
    "\n",
    "  - $H_0$ &mdash; остатки гомоскедастичны (тест Уайта)\n",
    "\n",
    "<br>\n",
    "\n",
    "- **Jarque-Bera** :\n",
    "\n",
    "  - $H_0$ &mdash; остатки распределены нормально"
   ]
  }
 ],
 "metadata": {
  "kernelspec": {
   "display_name": "Python 3",
   "language": "python",
   "name": "python3"
  },
  "language_info": {
   "codemirror_mode": {
    "name": "ipython",
    "version": 3
   },
   "file_extension": ".py",
   "mimetype": "text/x-python",
   "name": "python",
   "nbconvert_exporter": "python",
   "pygments_lexer": "ipython3",
   "version": "3.9.6"
  }
 },
 "nbformat": 4,
 "nbformat_minor": 2
}
