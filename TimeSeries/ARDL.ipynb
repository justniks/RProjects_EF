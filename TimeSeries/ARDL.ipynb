{
 "cells": [
  {
   "cell_type": "code",
   "execution_count": 1,
   "metadata": {},
   "outputs": [],
   "source": [
    "import numpy as np\n",
    "import pandas as pd\n",
    "from statsmodels.tsa.stattools import adfuller\n",
    "from statsmodels.stats.stattools import durbin_watson\n",
    "from statsmodels.stats.diagnostic import acorr_breusch_godfrey, acorr_ljungbox\n",
    "from statsmodels.graphics.tsaplots import plot_acf, plot_pacf\n",
    "from statsmodels.tsa.ardl import ARDL\n",
    "import matplotlib.pyplot as plt"
   ]
  },
  {
   "cell_type": "code",
   "execution_count": 2,
   "metadata": {},
   "outputs": [],
   "source": [
    "def adf_test(timeseries, maxlag=None, regression='c', autolag='AIC'):\n",
    "    print(\"Results of Dickey-Fuller Test:\")\n",
    "    dftest = adfuller(timeseries, maxlag=maxlag, regression=regression, autolag=autolag)\n",
    "    dfoutput = pd.Series(\n",
    "        dftest[0:4],\n",
    "        index=[\n",
    "            \"Test Statistic\",\n",
    "            \"p-value\",\n",
    "            \"#Lags Used\",\n",
    "            \"Number of Observations Used\",\n",
    "        ],\n",
    "    )\n",
    "    for key, value in dftest[4].items():\n",
    "        dfoutput[\"Critical Value (%s)\" % key] = value\n",
    "    print(dfoutput)\n",
    "\n"
   ]
  },
  {
   "cell_type": "markdown",
   "metadata": {},
   "source": [
    "# Задание 4. Влияние шоков нефтяных цен на экономику США"
   ]
  },
  {
   "cell_type": "markdown",
   "metadata": {},
   "source": [
    "Файл с данными: `USMacro_Monthly`. \n",
    "\n",
    "Повышение цен на нефть не раз становилось причиной рецессий в развитых странах. Для эмпирического исследования последствий шоков цен на нефть воспользуемся следующими данными:\n",
    "\n",
    "$\\mathrm{Oil_t}$ = max(0, разность между ценой нефти в момент времени $\\small t$ и ее максимальным значением в предшествующий моменту $\\small t$ год). \n",
    "<small>(Переменная измеряется в процентных пунктах).</small> \n",
    "Таким образом, переменная равна нулю, если шок цен на нефть в текущем периоде отсутствует (текущая цена нефти не превышает максимум за прошедший год).\n",
    "\n",
    "$\\mathrm{IP_t}$ — индекс промышленного производства в США в месяце $\\small t$. \n",
    "\n",
    "Будем предполагать, что цены на нефть, складываются на мировом рынке и являются экзогенными для нашей модели.\n",
    "\n",
    "1. Вычислите темп прироста промышленного производства в процентах к предыдущему месяцу по формуле $\\small \\mathrm{ip\\_growth_t} = ln \\left( \\frac{IP_t}{IP_{t-1}} \\right)$. Чему равны среднее значение и стандартное отклонение этой переменной за период 1952:1–2009:12?\n",
    "\n",
    "2. Постройте график временного ряда $\\small \\mathrm{Oil_t}$. Почему так много значений этой переменно равны нулю? Почему эта переменная никогда не принимает отрицательных значений?\n",
    "\n",
    "3. Оцените модель распределенных лагов для переменной $\\small \\mathrm{ip\\_growth_t}$ в зависимости от константы,текущего значения $\\small \\mathrm{Oil_t}$ и 18 лагов (полуторагодовой период). Не забудьте воспользоваться робастными стандартными ошибками (HAC standard errors).\n",
    "\n",
    "4. При уровне значимости 5% проверьте гипотезу о том, что шоки цен на нефть не оказываются влияния на промышленное производство в США.\n",
    "\n",
    "5. Постройте график динамических накопленных мультипликаторов (cumulative multipliers) по аналогии с графиком из лекции <small>(см. слайд 14 лекций 19-20 или график 15.2b в Стоке и Ватсоне)</small>. Укажите границы доверительных интервалов. Интерпретируйте результат.\n",
    "\n",
    "6. Если предположить, что экономика США достаточно велика, чтобы рост промышленного производства в США приводит к существенному росту спроса на мировом рынке энергоресурсов, то к какой проблеме в рам- ках оцениваемой модели это приведет. Как можно решить эту проблему?"
   ]
  },
  {
   "cell_type": "code",
   "execution_count": 3,
   "metadata": {},
   "outputs": [
    {
     "data": {
      "text/html": [
       "<div>\n",
       "<style scoped>\n",
       "    .dataframe tbody tr th:only-of-type {\n",
       "        vertical-align: middle;\n",
       "    }\n",
       "\n",
       "    .dataframe tbody tr th {\n",
       "        vertical-align: top;\n",
       "    }\n",
       "\n",
       "    .dataframe thead th {\n",
       "        text-align: right;\n",
       "    }\n",
       "</style>\n",
       "<table border=\"1\" class=\"dataframe\">\n",
       "  <thead>\n",
       "    <tr style=\"text-align: right;\">\n",
       "      <th></th>\n",
       "      <th>IP</th>\n",
       "      <th>Oil</th>\n",
       "    </tr>\n",
       "  </thead>\n",
       "  <tbody>\n",
       "    <tr>\n",
       "      <th>1947-01-01</th>\n",
       "      <td>13.5852</td>\n",
       "      <td>NaN</td>\n",
       "    </tr>\n",
       "    <tr>\n",
       "      <th>1947-02-01</th>\n",
       "      <td>13.6655</td>\n",
       "      <td>NaN</td>\n",
       "    </tr>\n",
       "    <tr>\n",
       "      <th>1947-03-01</th>\n",
       "      <td>13.7457</td>\n",
       "      <td>NaN</td>\n",
       "    </tr>\n",
       "    <tr>\n",
       "      <th>1947-04-01</th>\n",
       "      <td>13.6387</td>\n",
       "      <td>NaN</td>\n",
       "    </tr>\n",
       "    <tr>\n",
       "      <th>1947-05-01</th>\n",
       "      <td>13.6922</td>\n",
       "      <td>NaN</td>\n",
       "    </tr>\n",
       "    <tr>\n",
       "      <th>...</th>\n",
       "      <td>...</td>\n",
       "      <td>...</td>\n",
       "    </tr>\n",
       "    <tr>\n",
       "      <th>2009-08-01</th>\n",
       "      <td>87.7569</td>\n",
       "      <td>0.000000</td>\n",
       "    </tr>\n",
       "    <tr>\n",
       "      <th>2009-09-01</th>\n",
       "      <td>88.3967</td>\n",
       "      <td>0.000000</td>\n",
       "    </tr>\n",
       "    <tr>\n",
       "      <th>2009-10-01</th>\n",
       "      <td>88.6350</td>\n",
       "      <td>0.000000</td>\n",
       "    </tr>\n",
       "    <tr>\n",
       "      <th>2009-11-01</th>\n",
       "      <td>89.1049</td>\n",
       "      <td>0.062096</td>\n",
       "    </tr>\n",
       "    <tr>\n",
       "      <th>2009-12-01</th>\n",
       "      <td>89.5830</td>\n",
       "      <td>0.000000</td>\n",
       "    </tr>\n",
       "  </tbody>\n",
       "</table>\n",
       "<p>756 rows × 2 columns</p>\n",
       "</div>"
      ],
      "text/plain": [
       "                 IP       Oil\n",
       "1947-01-01  13.5852       NaN\n",
       "1947-02-01  13.6655       NaN\n",
       "1947-03-01  13.7457       NaN\n",
       "1947-04-01  13.6387       NaN\n",
       "1947-05-01  13.6922       NaN\n",
       "...             ...       ...\n",
       "2009-08-01  87.7569  0.000000\n",
       "2009-09-01  88.3967  0.000000\n",
       "2009-10-01  88.6350  0.000000\n",
       "2009-11-01  89.1049  0.062096\n",
       "2009-12-01  89.5830  0.000000\n",
       "\n",
       "[756 rows x 2 columns]"
      ]
     },
     "execution_count": 3,
     "metadata": {},
     "output_type": "execute_result"
    }
   ],
   "source": [
    "df = pd.read_excel(r'UsMacro_Monthly.xlsx')\n",
    "df.index = pd.to_datetime(df[['Year', 'Month']].assign(Day=1))\n",
    "df = df.iloc[:, 2:]\n",
    "df"
   ]
  },
  {
   "cell_type": "code",
   "execution_count": 28,
   "metadata": {},
   "outputs": [
    {
     "name": "stdout",
     "output_type": "stream",
     "text": [
      "Results of Dickey-Fuller Test:\n",
      "Test Statistic                -9.094267e+00\n",
      "p-value                        3.751771e-15\n",
      "#Lags Used                     4.000000e+00\n",
      "Number of Observations Used    7.390000e+02\n",
      "Critical Value (1%)           -3.439230e+00\n",
      "Critical Value (5%)           -2.865459e+00\n",
      "Critical Value (10%)          -2.568857e+00\n",
      "dtype: float64\n"
     ]
    }
   ],
   "source": [
    "adf_test(df.Oil.dropna())"
   ]
  },
  {
   "cell_type": "markdown",
   "metadata": {},
   "source": [
    "### а)"
   ]
  },
  {
   "cell_type": "code",
   "execution_count": 29,
   "metadata": {},
   "outputs": [
    {
     "data": {
      "text/html": [
       "<div>\n",
       "<style scoped>\n",
       "    .dataframe tbody tr th:only-of-type {\n",
       "        vertical-align: middle;\n",
       "    }\n",
       "\n",
       "    .dataframe tbody tr th {\n",
       "        vertical-align: top;\n",
       "    }\n",
       "\n",
       "    .dataframe thead th {\n",
       "        text-align: right;\n",
       "    }\n",
       "</style>\n",
       "<table border=\"1\" class=\"dataframe\">\n",
       "  <thead>\n",
       "    <tr style=\"text-align: right;\">\n",
       "      <th></th>\n",
       "      <th>IP</th>\n",
       "      <th>Oil</th>\n",
       "      <th>ip_growth</th>\n",
       "    </tr>\n",
       "  </thead>\n",
       "  <tbody>\n",
       "    <tr>\n",
       "      <th>1947-01-01</th>\n",
       "      <td>13.5852</td>\n",
       "      <td>NaN</td>\n",
       "      <td>NaN</td>\n",
       "    </tr>\n",
       "    <tr>\n",
       "      <th>1947-02-01</th>\n",
       "      <td>13.6655</td>\n",
       "      <td>NaN</td>\n",
       "      <td>0.589344</td>\n",
       "    </tr>\n",
       "    <tr>\n",
       "      <th>1947-03-01</th>\n",
       "      <td>13.7457</td>\n",
       "      <td>NaN</td>\n",
       "      <td>0.585164</td>\n",
       "    </tr>\n",
       "    <tr>\n",
       "      <th>1947-04-01</th>\n",
       "      <td>13.6387</td>\n",
       "      <td>NaN</td>\n",
       "      <td>-0.781471</td>\n",
       "    </tr>\n",
       "    <tr>\n",
       "      <th>1947-05-01</th>\n",
       "      <td>13.6922</td>\n",
       "      <td>NaN</td>\n",
       "      <td>0.391499</td>\n",
       "    </tr>\n",
       "    <tr>\n",
       "      <th>...</th>\n",
       "      <td>...</td>\n",
       "      <td>...</td>\n",
       "      <td>...</td>\n",
       "    </tr>\n",
       "    <tr>\n",
       "      <th>2009-08-01</th>\n",
       "      <td>87.7569</td>\n",
       "      <td>0.000000</td>\n",
       "      <td>1.223657</td>\n",
       "    </tr>\n",
       "    <tr>\n",
       "      <th>2009-09-01</th>\n",
       "      <td>88.3967</td>\n",
       "      <td>0.000000</td>\n",
       "      <td>0.726415</td>\n",
       "    </tr>\n",
       "    <tr>\n",
       "      <th>2009-10-01</th>\n",
       "      <td>88.6350</td>\n",
       "      <td>0.000000</td>\n",
       "      <td>0.269217</td>\n",
       "    </tr>\n",
       "    <tr>\n",
       "      <th>2009-11-01</th>\n",
       "      <td>89.1049</td>\n",
       "      <td>0.062096</td>\n",
       "      <td>0.528751</td>\n",
       "    </tr>\n",
       "    <tr>\n",
       "      <th>2009-12-01</th>\n",
       "      <td>89.5830</td>\n",
       "      <td>0.000000</td>\n",
       "      <td>0.535124</td>\n",
       "    </tr>\n",
       "  </tbody>\n",
       "</table>\n",
       "<p>756 rows × 3 columns</p>\n",
       "</div>"
      ],
      "text/plain": [
       "                 IP       Oil  ip_growth\n",
       "1947-01-01  13.5852       NaN        NaN\n",
       "1947-02-01  13.6655       NaN   0.589344\n",
       "1947-03-01  13.7457       NaN   0.585164\n",
       "1947-04-01  13.6387       NaN  -0.781471\n",
       "1947-05-01  13.6922       NaN   0.391499\n",
       "...             ...       ...        ...\n",
       "2009-08-01  87.7569  0.000000   1.223657\n",
       "2009-09-01  88.3967  0.000000   0.726415\n",
       "2009-10-01  88.6350  0.000000   0.269217\n",
       "2009-11-01  89.1049  0.062096   0.528751\n",
       "2009-12-01  89.5830  0.000000   0.535124\n",
       "\n",
       "[756 rows x 3 columns]"
      ]
     },
     "execution_count": 29,
     "metadata": {},
     "output_type": "execute_result"
    }
   ],
   "source": [
    "df['ip_growth'] = np.log(df.IP/df.IP.shift(1))*100\n",
    "df"
   ]
  },
  {
   "cell_type": "code",
   "execution_count": 30,
   "metadata": {},
   "outputs": [
    {
     "data": {
      "text/plain": [
       "1947-01-01         NaN\n",
       "1947-02-01    0.589344\n",
       "1947-03-01    0.585164\n",
       "1947-04-01   -0.781471\n",
       "1947-05-01    0.391499\n",
       "                ...   \n",
       "2009-08-01    1.223657\n",
       "2009-09-01    0.726415\n",
       "2009-10-01    0.269217\n",
       "2009-11-01    0.528751\n",
       "2009-12-01    0.535124\n",
       "Name: IP, Length: 756, dtype: float64"
      ]
     },
     "execution_count": 30,
     "metadata": {},
     "output_type": "execute_result"
    }
   ],
   "source": [
    "np.log(df.IP).diff()*100"
   ]
  },
  {
   "cell_type": "code",
   "execution_count": 31,
   "metadata": {},
   "outputs": [
    {
     "data": {
      "text/html": [
       "<div>\n",
       "<style scoped>\n",
       "    .dataframe tbody tr th:only-of-type {\n",
       "        vertical-align: middle;\n",
       "    }\n",
       "\n",
       "    .dataframe tbody tr th {\n",
       "        vertical-align: top;\n",
       "    }\n",
       "\n",
       "    .dataframe thead th {\n",
       "        text-align: right;\n",
       "    }\n",
       "</style>\n",
       "<table border=\"1\" class=\"dataframe\">\n",
       "  <thead>\n",
       "    <tr style=\"text-align: right;\">\n",
       "      <th></th>\n",
       "      <th>IP</th>\n",
       "      <th>Oil</th>\n",
       "      <th>ip_growth</th>\n",
       "    </tr>\n",
       "  </thead>\n",
       "  <tbody>\n",
       "    <tr>\n",
       "      <th>1952-01-01</th>\n",
       "      <td>17.2222</td>\n",
       "      <td>0.000000</td>\n",
       "      <td>1.092920</td>\n",
       "    </tr>\n",
       "    <tr>\n",
       "      <th>1952-02-01</th>\n",
       "      <td>17.3292</td>\n",
       "      <td>0.000000</td>\n",
       "      <td>0.619369</td>\n",
       "    </tr>\n",
       "    <tr>\n",
       "      <th>1952-03-01</th>\n",
       "      <td>17.3827</td>\n",
       "      <td>0.000000</td>\n",
       "      <td>0.308252</td>\n",
       "    </tr>\n",
       "    <tr>\n",
       "      <th>1952-04-01</th>\n",
       "      <td>17.2222</td>\n",
       "      <td>0.000000</td>\n",
       "      <td>-0.927621</td>\n",
       "    </tr>\n",
       "    <tr>\n",
       "      <th>1952-05-01</th>\n",
       "      <td>17.0618</td>\n",
       "      <td>0.000000</td>\n",
       "      <td>-0.935720</td>\n",
       "    </tr>\n",
       "    <tr>\n",
       "      <th>...</th>\n",
       "      <td>...</td>\n",
       "      <td>...</td>\n",
       "      <td>...</td>\n",
       "    </tr>\n",
       "    <tr>\n",
       "      <th>2009-08-01</th>\n",
       "      <td>87.7569</td>\n",
       "      <td>0.000000</td>\n",
       "      <td>1.223657</td>\n",
       "    </tr>\n",
       "    <tr>\n",
       "      <th>2009-09-01</th>\n",
       "      <td>88.3967</td>\n",
       "      <td>0.000000</td>\n",
       "      <td>0.726415</td>\n",
       "    </tr>\n",
       "    <tr>\n",
       "      <th>2009-10-01</th>\n",
       "      <td>88.6350</td>\n",
       "      <td>0.000000</td>\n",
       "      <td>0.269217</td>\n",
       "    </tr>\n",
       "    <tr>\n",
       "      <th>2009-11-01</th>\n",
       "      <td>89.1049</td>\n",
       "      <td>0.062096</td>\n",
       "      <td>0.528751</td>\n",
       "    </tr>\n",
       "    <tr>\n",
       "      <th>2009-12-01</th>\n",
       "      <td>89.5830</td>\n",
       "      <td>0.000000</td>\n",
       "      <td>0.535124</td>\n",
       "    </tr>\n",
       "  </tbody>\n",
       "</table>\n",
       "<p>696 rows × 3 columns</p>\n",
       "</div>"
      ],
      "text/plain": [
       "                 IP       Oil  ip_growth\n",
       "1952-01-01  17.2222  0.000000   1.092920\n",
       "1952-02-01  17.3292  0.000000   0.619369\n",
       "1952-03-01  17.3827  0.000000   0.308252\n",
       "1952-04-01  17.2222  0.000000  -0.927621\n",
       "1952-05-01  17.0618  0.000000  -0.935720\n",
       "...             ...       ...        ...\n",
       "2009-08-01  87.7569  0.000000   1.223657\n",
       "2009-09-01  88.3967  0.000000   0.726415\n",
       "2009-10-01  88.6350  0.000000   0.269217\n",
       "2009-11-01  89.1049  0.062096   0.528751\n",
       "2009-12-01  89.5830  0.000000   0.535124\n",
       "\n",
       "[696 rows x 3 columns]"
      ]
     },
     "execution_count": 31,
     "metadata": {},
     "output_type": "execute_result"
    }
   ],
   "source": [
    "df[df.index>='1.1.1952']"
   ]
  },
  {
   "cell_type": "code",
   "execution_count": 32,
   "metadata": {},
   "outputs": [
    {
     "data": {
      "text/plain": [
       "(0.23849073544880434, 0.9481540156800442)"
      ]
     },
     "execution_count": 32,
     "metadata": {},
     "output_type": "execute_result"
    }
   ],
   "source": [
    "df.loc[df.index>='1.1.1952', 'ip_growth'].mean(), df.loc[df.index>='1.1.1952', 'ip_growth'].std()"
   ]
  },
  {
   "cell_type": "markdown",
   "metadata": {},
   "source": [
    "### б)"
   ]
  },
  {
   "cell_type": "code",
   "execution_count": 33,
   "metadata": {},
   "outputs": [
    {
     "data": {
      "text/plain": [
       "<Axes: >"
      ]
     },
     "execution_count": 33,
     "metadata": {},
     "output_type": "execute_result"
    },
    {
     "data": {
      "image/png": "[encoded data removed]",
      "text/plain": [
       "<Figure size 640x480 with 1 Axes>"
      ]
     },
     "metadata": {},
     "output_type": "display_data"
    }
   ],
   "source": [
    "df.Oil.plot()"
   ]
  },
  {
   "cell_type": "markdown",
   "metadata": {},
   "source": [
    "### в)"
   ]
  },
  {
   "cell_type": "code",
   "execution_count": 37,
   "metadata": {},
   "outputs": [
    {
     "data": {
      "text/html": [
       "<div>\n",
       "<style scoped>\n",
       "    .dataframe tbody tr th:only-of-type {\n",
       "        vertical-align: middle;\n",
       "    }\n",
       "\n",
       "    .dataframe tbody tr th {\n",
       "        vertical-align: top;\n",
       "    }\n",
       "\n",
       "    .dataframe thead th {\n",
       "        text-align: right;\n",
       "    }\n",
       "</style>\n",
       "<table border=\"1\" class=\"dataframe\">\n",
       "  <thead>\n",
       "    <tr style=\"text-align: right;\">\n",
       "      <th></th>\n",
       "      <th>IP</th>\n",
       "      <th>Oil</th>\n",
       "      <th>ip_growth</th>\n",
       "    </tr>\n",
       "  </thead>\n",
       "  <tbody>\n",
       "    <tr>\n",
       "      <th>1948-01-01</th>\n",
       "      <td>14.2538</td>\n",
       "      <td>0.055046</td>\n",
       "      <td>0.564246</td>\n",
       "    </tr>\n",
       "    <tr>\n",
       "      <th>1948-02-01</th>\n",
       "      <td>14.2806</td>\n",
       "      <td>0.000000</td>\n",
       "      <td>0.187844</td>\n",
       "    </tr>\n",
       "    <tr>\n",
       "      <th>1948-03-01</th>\n",
       "      <td>14.1201</td>\n",
       "      <td>0.000000</td>\n",
       "      <td>-1.130266</td>\n",
       "    </tr>\n",
       "    <tr>\n",
       "      <th>1948-04-01</th>\n",
       "      <td>14.1468</td>\n",
       "      <td>0.000000</td>\n",
       "      <td>0.188914</td>\n",
       "    </tr>\n",
       "    <tr>\n",
       "      <th>1948-05-01</th>\n",
       "      <td>14.3875</td>\n",
       "      <td>0.000000</td>\n",
       "      <td>1.687132</td>\n",
       "    </tr>\n",
       "    <tr>\n",
       "      <th>...</th>\n",
       "      <td>...</td>\n",
       "      <td>...</td>\n",
       "      <td>...</td>\n",
       "    </tr>\n",
       "    <tr>\n",
       "      <th>2009-08-01</th>\n",
       "      <td>87.7569</td>\n",
       "      <td>0.000000</td>\n",
       "      <td>1.223657</td>\n",
       "    </tr>\n",
       "    <tr>\n",
       "      <th>2009-09-01</th>\n",
       "      <td>88.3967</td>\n",
       "      <td>0.000000</td>\n",
       "      <td>0.726415</td>\n",
       "    </tr>\n",
       "    <tr>\n",
       "      <th>2009-10-01</th>\n",
       "      <td>88.6350</td>\n",
       "      <td>0.000000</td>\n",
       "      <td>0.269217</td>\n",
       "    </tr>\n",
       "    <tr>\n",
       "      <th>2009-11-01</th>\n",
       "      <td>89.1049</td>\n",
       "      <td>0.062096</td>\n",
       "      <td>0.528751</td>\n",
       "    </tr>\n",
       "    <tr>\n",
       "      <th>2009-12-01</th>\n",
       "      <td>89.5830</td>\n",
       "      <td>0.000000</td>\n",
       "      <td>0.535124</td>\n",
       "    </tr>\n",
       "  </tbody>\n",
       "</table>\n",
       "<p>744 rows × 3 columns</p>\n",
       "</div>"
      ],
      "text/plain": [
       "                 IP       Oil  ip_growth\n",
       "1948-01-01  14.2538  0.055046   0.564246\n",
       "1948-02-01  14.2806  0.000000   0.187844\n",
       "1948-03-01  14.1201  0.000000  -1.130266\n",
       "1948-04-01  14.1468  0.000000   0.188914\n",
       "1948-05-01  14.3875  0.000000   1.687132\n",
       "...             ...       ...        ...\n",
       "2009-08-01  87.7569  0.000000   1.223657\n",
       "2009-09-01  88.3967  0.000000   0.726415\n",
       "2009-10-01  88.6350  0.000000   0.269217\n",
       "2009-11-01  89.1049  0.062096   0.528751\n",
       "2009-12-01  89.5830  0.000000   0.535124\n",
       "\n",
       "[744 rows x 3 columns]"
      ]
     },
     "execution_count": 37,
     "metadata": {},
     "output_type": "execute_result"
    }
   ],
   "source": [
    "df_model = df.dropna()\n",
    "df_model"
   ]
  },
  {
   "cell_type": "code",
   "execution_count": 54,
   "metadata": {},
   "outputs": [
    {
     "name": "stdout",
     "output_type": "stream",
     "text": [
      "                              ARDL Model Results                              \n",
      "==============================================================================\n",
      "Dep. Variable:              ip_growth   No. Observations:                  744\n",
      "Model:                    ARDL(0, 18)   Log Likelihood               -1007.055\n",
      "Method:               Conditional MLE   S.D. of innovations              0.937\n",
      "Date:                Tue, 12 Dec 2023   AIC                           2056.109\n",
      "Time:                        23:42:07   BIC                           2152.962\n",
      "Sample:                    07-01-1949   HQIC                          2093.443\n",
      "                         - 12-01-2009                                         \n",
      "==============================================================================\n",
      "                 coef    std err          z      P>|z|      [0.025      0.975]\n",
      "------------------------------------------------------------------------------\n",
      "const          0.4275      0.045      9.587      0.000       0.340       0.515\n",
      "Oil.L0         0.1553      1.351      0.115      0.909      -2.497       2.808\n",
      "Oil.L1        -0.9760      1.438     -0.679      0.498      -3.800       1.848\n",
      "Oil.L2        -1.4030      1.450     -0.967      0.334      -4.250       1.444\n",
      "Oil.L3        -0.8315      1.452     -0.573      0.567      -3.683       2.020\n",
      "Oil.L4        -0.4064      1.452     -0.280      0.780      -3.257       2.444\n",
      "Oil.L5        -0.4202      1.456     -0.289      0.773      -3.278       2.438\n",
      "Oil.L6        -2.5551      1.456     -1.755      0.080      -5.413       0.303\n",
      "Oil.L7        -0.2286      1.456     -0.157      0.875      -3.087       2.630\n",
      "Oil.L8         0.8800      1.454      0.605      0.545      -1.975       3.735\n",
      "Oil.L9        -1.6392      1.459     -1.124      0.262      -4.503       1.225\n",
      "Oil.L10       -3.9234      1.454     -2.698      0.007      -6.778      -1.069\n",
      "Oil.L11       -2.6074      1.456     -1.791      0.074      -5.466       0.251\n",
      "Oil.L12       -0.2247      1.456     -0.154      0.877      -3.083       2.634\n",
      "Oil.L13       -1.5547      1.456     -1.068      0.286      -4.413       1.303\n",
      "Oil.L14       -1.4832      1.452     -1.021      0.307      -4.334       1.368\n",
      "Oil.L15       -1.4788      1.453     -1.018      0.309      -4.331       1.373\n",
      "Oil.L16       -0.1002      1.451     -0.069      0.945      -2.950       2.749\n",
      "Oil.L17        0.4981      1.444      0.345      0.730      -2.337       3.334\n",
      "Oil.L18        0.0096      1.355      0.007      0.994      -2.651       2.670\n",
      "==============================================================================\n",
      "             Test of Normality              \n",
      "============================================\n",
      "Jarque-Bera    P-value   Skewness   Kurtosis\n",
      "--------------------------------------------\n",
      "    796.708      0.000      0.313      8.094\n",
      "\n",
      "\n",
      "    Test of Conditional Homoskedasticity   \n",
      "===========================================\n",
      "       Lag    ARCH-LM    P-value         DF\n",
      "-------------------------------------------\n",
      "         1     75.384      0.000          1\n",
      "         2     75.617      0.000          2\n",
      "         3     78.245      0.000          3\n",
      "         4     96.507      0.000          4\n",
      "         5     94.779      0.000          5\n",
      "         6     94.582      0.000          6\n",
      "         7     94.807      0.000          7\n",
      "         8     96.790      0.000          8\n",
      "         9     97.744      0.000          9\n",
      "        10     94.001      0.000         10\n",
      "-------------------------------------------\n"
     ]
    },
    {
     "name": "stderr",
     "output_type": "stream",
     "text": [
      "c:\\Users\\Ivan\\AppData\\Local\\Programs\\Python\\Python312\\Lib\\site-packages\\statsmodels\\tsa\\base\\tsa_model.py:473: ValueWarning: No frequency information was provided, so inferred frequency MS will be used.\n",
      "  self._init_dates(dates, freq)\n"
     ]
    }
   ],
   "source": [
    "model = ARDL(endog=df_model.ip_growth, lags=0, exog=df_model[['Oil']], order=18, trend='c', causal=False).fit()\n",
    "print(model.summary())\n",
    "print(model.diagnostic_summary())"
   ]
  },
  {
   "cell_type": "code",
   "execution_count": 75,
   "metadata": {},
   "outputs": [
    {
     "name": "stdout",
     "output_type": "stream",
     "text": [
      "                              ARDL Model Results                              \n",
      "==============================================================================\n",
      "Dep. Variable:              ip_growth   No. Observations:                  744\n",
      "Model:                    ARDL(0, 18)   Log Likelihood               -1007.055\n",
      "Method:               Conditional MLE   S.D. of innovations              0.937\n",
      "Date:                Tue, 12 Dec 2023   AIC                           2056.109\n",
      "Time:                        23:47:27   BIC                           2152.962\n",
      "Sample:                    07-01-1949   HQIC                          2093.443\n",
      "                         - 12-01-2009                                         \n",
      "==============================================================================\n",
      "                 coef    std err          z      P>|z|      [0.025      0.975]\n",
      "------------------------------------------------------------------------------\n",
      "const          0.4275      0.063      6.804      0.000       0.304       0.551\n",
      "Oil.L0         0.1553      0.808      0.192      0.848      -1.432       1.742\n",
      "Oil.L1        -0.9760      0.935     -1.044      0.297      -2.811       0.859\n",
      "Oil.L2        -1.4030      0.697     -2.014      0.044      -2.771      -0.035\n",
      "Oil.L3        -0.8315      1.000     -0.832      0.406      -2.795       1.131\n",
      "Oil.L4        -0.4064      0.809     -0.502      0.615      -1.994       1.182\n",
      "Oil.L5        -0.4202      0.687     -0.612      0.541      -1.769       0.929\n",
      "Oil.L6        -2.5551      1.542     -1.657      0.098      -5.583       0.473\n",
      "Oil.L7        -0.2286      0.964     -0.237      0.813      -2.122       1.665\n",
      "Oil.L8         0.8800      0.916      0.961      0.337      -0.917       2.677\n",
      "Oil.L9        -1.6392      0.914     -1.793      0.073      -3.434       0.155\n",
      "Oil.L10       -3.9234      1.917     -2.046      0.041      -7.687      -0.159\n",
      "Oil.L11       -2.6074      1.859     -1.403      0.161      -6.257       1.042\n",
      "Oil.L12       -0.2247      1.263     -0.178      0.859      -2.704       2.255\n",
      "Oil.L13       -1.5547      1.014     -1.534      0.126      -3.545       0.436\n",
      "Oil.L14       -1.4832      0.771     -1.923      0.055      -2.997       0.031\n",
      "Oil.L15       -1.4788      0.840     -1.761      0.079      -3.127       0.170\n",
      "Oil.L16       -0.1002      0.846     -0.119      0.906      -1.761       1.560\n",
      "Oil.L17        0.4981      0.777      0.641      0.522      -1.028       2.024\n",
      "Oil.L18        0.0096      0.917      0.010      0.992      -1.791       1.811\n",
      "==============================================================================\n"
     ]
    },
    {
     "name": "stderr",
     "output_type": "stream",
     "text": [
      "c:\\Users\\Ivan\\AppData\\Local\\Programs\\Python\\Python312\\Lib\\site-packages\\statsmodels\\tsa\\base\\tsa_model.py:473: ValueWarning: No frequency information was provided, so inferred frequency MS will be used.\n",
      "  self._init_dates(dates, freq)\n"
     ]
    }
   ],
   "source": [
    "model_robust = ARDL(endog=df_model.ip_growth, lags=0, exog=df_model[['Oil']], order=18, trend='c', causal=False).fit(cov_type='HAC', cov_kwds={'maxlags':18})\n",
    "print(model_robust.summary())"
   ]
  },
  {
   "cell_type": "code",
   "execution_count": 83,
   "metadata": {},
   "outputs": [
    {
     "data": {
      "text/plain": [
       "'Oil.L0 + Oil.L1 + Oil.L2 + Oil.L3 + Oil.L4 + Oil.L5 + Oil.L6 + Oil.L7 + Oil.L8 + Oil.L9 + Oil.L10 + Oil.L11 + Oil.L12 + Oil.L13 + Oil.L14 + Oil.L15 + Oil.L16 + Oil.L17 + Oil.L18 = 0'"
      ]
     },
     "execution_count": 83,
     "metadata": {},
     "output_type": "execute_result"
    }
   ],
   "source": [
    "str_rest = ' + '.join([f'Oil.L{i}' for i in range(19)]) + ' = 0'\n",
    "str_rest"
   ]
  },
  {
   "cell_type": "code",
   "execution_count": 119,
   "metadata": {},
   "outputs": [
    {
     "name": "stdout",
     "output_type": "stream",
     "text": [
      "<F test: F=38.41299882128398, p=9.607882396429733e-10, df_denom=724, df_num=1>\n",
      "<F test: F=17.04674711633618, p=4.071961184577043e-05, df_denom=724, df_num=1>\n"
     ]
    }
   ],
   "source": [
    "print(model.f_test(str_rest))\n",
    "print(model_robust.f_test(str_rest))"
   ]
  },
  {
   "cell_type": "markdown",
   "metadata": {},
   "source": [
    "### д)"
   ]
  },
  {
   "cell_type": "code",
   "execution_count": 157,
   "metadata": {},
   "outputs": [
    {
     "data": {
      "text/plain": [
       "Oil.L0      0.155317\n",
       "Oil.L1     -0.820687\n",
       "Oil.L2     -2.223735\n",
       "Oil.L3     -3.055282\n",
       "Oil.L4     -3.461720\n",
       "Oil.L5     -3.881911\n",
       "Oil.L6     -6.436984\n",
       "Oil.L7     -6.665579\n",
       "Oil.L8     -5.785604\n",
       "Oil.L9     -7.424841\n",
       "Oil.L10   -11.348234\n",
       "Oil.L11   -13.955644\n",
       "Oil.L12   -14.180385\n",
       "Oil.L13   -15.735068\n",
       "Oil.L14   -17.218222\n",
       "Oil.L15   -18.696996\n",
       "Oil.L16   -18.797225\n",
       "Oil.L17   -18.299148\n",
       "Oil.L18   -18.289541\n",
       "dtype: float64"
      ]
     },
     "execution_count": 157,
     "metadata": {},
     "output_type": "execute_result"
    }
   ],
   "source": [
    "cum = model_robust.params[1:].cumsum()\n",
    "cum"
   ]
  },
  {
   "cell_type": "code",
   "execution_count": 158,
   "metadata": {},
   "outputs": [
    {
     "data": {
      "text/plain": [
       "Oil.L0     0.808275\n",
       "Oil.L1     1.127470\n",
       "Oil.L2     1.355671\n",
       "Oil.L3     1.947119\n",
       "Oil.L4     2.173428\n",
       "Oil.L5     2.501294\n",
       "Oil.L6     3.277913\n",
       "Oil.L7     3.172333\n",
       "Oil.L8     2.891190\n",
       "Oil.L9     3.207009\n",
       "Oil.L10    3.981094\n",
       "Oil.L11    3.982955\n",
       "Oil.L12    4.507208\n",
       "Oil.L13    4.745075\n",
       "Oil.L14    4.938257\n",
       "Oil.L15    4.861970\n",
       "Oil.L16    4.656923\n",
       "Oil.L17    4.390003\n",
       "Oil.L18    4.429779\n",
       "dtype: float64"
      ]
     },
     "execution_count": 158,
     "metadata": {},
     "output_type": "execute_result"
    }
   ],
   "source": [
    "#cum.index = cum.index.str[5:]\n",
    "stds = np.sqrt(np.diag(model_robust.cov_params().iloc[1:, 1:].cumsum(axis=0).cumsum(axis=1)))\n",
    "stds = pd.Series(stds, index=cum.index)\n",
    "stds"
   ]
  },
  {
   "cell_type": "code",
   "execution_count": 159,
   "metadata": {},
   "outputs": [
    {
     "data": {
      "image/png": "[encoded data removed]",
      "text/plain": [
       "<Figure size 1500x500 with 1 Axes>"
      ]
     },
     "metadata": {},
     "output_type": "display_data"
    }
   ],
   "source": [
    "fig, ax = plt.subplots(figsize=(15, 5))\n",
    "cum.plot(ax=ax)\n",
    "ax.fill_between(stds.index, cum-1.96*stds, cum+1.96*stds, color='k', alpha=0.1)\n",
    "plt.show();"
   ]
  },
  {
   "cell_type": "markdown",
   "metadata": {},
   "source": [
    "# Задача 3"
   ]
  },
  {
   "cell_type": "code",
   "execution_count": 165,
   "metadata": {},
   "outputs": [
    {
     "data": {
      "text/html": [
       "<div>\n",
       "<style scoped>\n",
       "    .dataframe tbody tr th:only-of-type {\n",
       "        vertical-align: middle;\n",
       "    }\n",
       "\n",
       "    .dataframe tbody tr th {\n",
       "        vertical-align: top;\n",
       "    }\n",
       "\n",
       "    .dataframe thead th {\n",
       "        text-align: right;\n",
       "    }\n",
       "</style>\n",
       "<table border=\"1\" class=\"dataframe\">\n",
       "  <thead>\n",
       "    <tr style=\"text-align: right;\">\n",
       "      <th></th>\n",
       "      <th>x</th>\n",
       "      <th>y</th>\n",
       "    </tr>\n",
       "  </thead>\n",
       "  <tbody>\n",
       "    <tr>\n",
       "      <th>0</th>\n",
       "      <td>4</td>\n",
       "      <td>27.0</td>\n",
       "    </tr>\n",
       "    <tr>\n",
       "      <th>1</th>\n",
       "      <td>3</td>\n",
       "      <td>25.7</td>\n",
       "    </tr>\n",
       "    <tr>\n",
       "      <th>2</th>\n",
       "      <td>0</td>\n",
       "      <td>24.3</td>\n",
       "    </tr>\n",
       "    <tr>\n",
       "      <th>3</th>\n",
       "      <td>5</td>\n",
       "      <td>23.2</td>\n",
       "    </tr>\n",
       "    <tr>\n",
       "      <th>4</th>\n",
       "      <td>3</td>\n",
       "      <td>27.6</td>\n",
       "    </tr>\n",
       "    <tr>\n",
       "      <th>...</th>\n",
       "      <td>...</td>\n",
       "      <td>...</td>\n",
       "    </tr>\n",
       "    <tr>\n",
       "      <th>115</th>\n",
       "      <td>1</td>\n",
       "      <td>25.3</td>\n",
       "    </tr>\n",
       "    <tr>\n",
       "      <th>116</th>\n",
       "      <td>8</td>\n",
       "      <td>22.5</td>\n",
       "    </tr>\n",
       "    <tr>\n",
       "      <th>117</th>\n",
       "      <td>8</td>\n",
       "      <td>25.7</td>\n",
       "    </tr>\n",
       "    <tr>\n",
       "      <th>118</th>\n",
       "      <td>0</td>\n",
       "      <td>29.3</td>\n",
       "    </tr>\n",
       "    <tr>\n",
       "      <th>119</th>\n",
       "      <td>9</td>\n",
       "      <td>24.7</td>\n",
       "    </tr>\n",
       "  </tbody>\n",
       "</table>\n",
       "<p>120 rows × 2 columns</p>\n",
       "</div>"
      ],
      "text/plain": [
       "     x     y\n",
       "0    4  27.0\n",
       "1    3  25.7\n",
       "2    0  24.3\n",
       "3    5  23.2\n",
       "4    3  27.6\n",
       "..  ..   ...\n",
       "115  1  25.3\n",
       "116  8  22.5\n",
       "117  8  25.7\n",
       "118  0  29.3\n",
       "119  9  24.7\n",
       "\n",
       "[120 rows x 2 columns]"
      ]
     },
     "execution_count": 165,
     "metadata": {},
     "output_type": "execute_result"
    }
   ],
   "source": [
    "advert = pd.read_excel(r'advert.xlsx')\n",
    "advert = pd.read_csv(r'advert.csv', sep=';', decimal=',')\n",
    "advert"
   ]
  },
  {
   "cell_type": "code",
   "execution_count": 168,
   "metadata": {},
   "outputs": [
    {
     "name": "stdout",
     "output_type": "stream",
     "text": [
      "Results of Dickey-Fuller Test:\n",
      "Test Statistic                -1.192212e+01\n",
      "p-value                        5.003836e-22\n",
      "#Lags Used                     0.000000e+00\n",
      "Number of Observations Used    1.190000e+02\n",
      "Critical Value (1%)           -3.486535e+00\n",
      "Critical Value (5%)           -2.886151e+00\n",
      "Critical Value (10%)          -2.579896e+00\n",
      "dtype: float64\n"
     ]
    }
   ],
   "source": [
    "adf_test(advert.x)"
   ]
  },
  {
   "cell_type": "code",
   "execution_count": 169,
   "metadata": {},
   "outputs": [
    {
     "name": "stdout",
     "output_type": "stream",
     "text": [
      "Results of Dickey-Fuller Test:\n",
      "Test Statistic                -6.497256e+00\n",
      "p-value                        1.185806e-08\n",
      "#Lags Used                     0.000000e+00\n",
      "Number of Observations Used    1.190000e+02\n",
      "Critical Value (1%)           -3.486535e+00\n",
      "Critical Value (5%)           -2.886151e+00\n",
      "Critical Value (10%)          -2.579896e+00\n",
      "dtype: float64\n"
     ]
    }
   ],
   "source": [
    "adf_test(advert.y)"
   ]
  },
  {
   "cell_type": "markdown",
   "metadata": {},
   "source": [
    "### а)"
   ]
  },
  {
   "cell_type": "code",
   "execution_count": 189,
   "metadata": {},
   "outputs": [
    {
     "name": "stdout",
     "output_type": "stream",
     "text": [
      "                              ARDL Model Results                              \n",
      "==============================================================================\n",
      "Dep. Variable:                      y   No. Observations:                  120\n",
      "Model:                     ARDL(3, 3)   Log Likelihood                -179.698\n",
      "Method:               Conditional MLE   S.D. of innovations              1.124\n",
      "Date:                Wed, 13 Dec 2023   AIC                            375.396\n",
      "Time:                        00:44:12   BIC                            397.493\n",
      "Sample:                             3   HQIC                           384.367\n",
      "                                  120                                         \n",
      "==============================================================================\n",
      "                 coef    std err          z      P>|z|      [0.025      0.975]\n",
      "------------------------------------------------------------------------------\n",
      "const         11.6475      1.687      6.905      0.000       8.305      14.990\n",
      "y.L1           0.4887      0.094      5.181      0.000       0.302       0.676\n",
      "y.L2          -0.1037      0.105     -0.987      0.326      -0.312       0.104\n",
      "y.L3           0.0330      0.059      0.558      0.578      -0.084       0.150\n",
      "x.L1           0.8161      0.037     22.297      0.000       0.744       0.889\n",
      "x.L2           0.0226      0.086      0.264      0.792      -0.147       0.192\n",
      "x.L3           0.1053      0.085      1.234      0.220      -0.064       0.274\n",
      "==============================================================================\n"
     ]
    }
   ],
   "source": [
    "model_advert_y = ARDL(endog=advert.y, lags=3, exog=advert[['x']], order=3, causal=True, trend='c').fit()\n",
    "print(model_advert_y.summary())"
   ]
  },
  {
   "cell_type": "code",
   "execution_count": 190,
   "metadata": {},
   "outputs": [
    {
     "name": "stdout",
     "output_type": "stream",
     "text": [
      "<F test: F=55.47800109052987, p=2.2702259538544353e-11, df_denom=110, df_num=1>\n"
     ]
    }
   ],
   "source": [
    "print(model_advert_y.wald_test('x.L1 + x.L2 + x.L3 = 0', scalar=True, use_f=True)) #аргумент только ради того, чтобы убрать warning"
   ]
  },
  {
   "cell_type": "code",
   "execution_count": 192,
   "metadata": {},
   "outputs": [
    {
     "name": "stdout",
     "output_type": "stream",
     "text": [
      "<F test: F=0.6397131347825364, p=0.42553855363237303, df_denom=110, df_num=1>\n"
     ]
    }
   ],
   "source": [
    "model_advert_x = ARDL(endog=advert.x, lags=3, exog=advert[['y']], order=3, causal=True, trend='c').fit()\n",
    "print(model_advert_x.wald_test('y.L1 + y.L2 + y.L3 = 0', scalar=True)) #аргумент только ради того, чтобы убрать warning"
   ]
  },
  {
   "cell_type": "markdown",
   "metadata": {},
   "source": [
    "Вывод: x является причиной по Грейнджеру для y (p-value теста Вальда для причинности x на y > 0.05)"
   ]
  },
  {
   "cell_type": "markdown",
   "metadata": {},
   "source": [
    "### б)"
   ]
  },
  {
   "cell_type": "code",
   "execution_count": 232,
   "metadata": {},
   "outputs": [
    {
     "name": "stdout",
     "output_type": "stream",
     "text": [
      "                              ARDL Model Results                              \n",
      "==============================================================================\n",
      "Dep. Variable:                      y   No. Observations:                  120\n",
      "Model:                     ARDL(0, 2)   Log Likelihood                -213.791\n",
      "Method:               Conditional MLE   S.D. of innovations              1.437\n",
      "Date:                Wed, 13 Dec 2023   AIC                            437.582\n",
      "Time:                        01:00:46   BIC                            451.520\n",
      "Sample:                             2   HQIC                           443.242\n",
      "                                  120                                         \n",
      "==============================================================================\n",
      "                 coef    std err          z      P>|z|      [0.025      0.975]\n",
      "------------------------------------------------------------------------------\n",
      "const         21.6889      0.387     55.991      0.000      20.922      22.456\n",
      "x.L0          -0.0110      0.046     -0.237      0.813      -0.102       0.081\n",
      "x.L1           0.8305      0.047     17.842      0.000       0.738       0.923\n",
      "x.L2           0.4149      0.047      8.831      0.000       0.322       0.508\n",
      "==============================================================================\n"
     ]
    }
   ],
   "source": [
    "model_advert = ARDL(endog=advert.y, lags=0, exog=advert[['x']], order=2, causal=False).fit()\n",
    "print(model_advert.summary())"
   ]
  },
  {
   "cell_type": "code",
   "execution_count": 234,
   "metadata": {},
   "outputs": [
    {
     "data": {
      "image/png": "[encoded data removed]",
      "text/plain": [
       "<Figure size 640x480 with 1 Axes>"
      ]
     },
     "metadata": {},
     "output_type": "display_data"
    }
   ],
   "source": [
    "plot_acf(model_advert.resid);"
   ]
  },
  {
   "cell_type": "code",
   "execution_count": 235,
   "metadata": {},
   "outputs": [
    {
     "data": {
      "text/plain": [
       "1.1167119273319122"
      ]
     },
     "execution_count": 235,
     "metadata": {},
     "output_type": "execute_result"
    }
   ],
   "source": [
    "durbin_watson(model_advert.resid)"
   ]
  },
  {
   "cell_type": "markdown",
   "metadata": {},
   "source": [
    "Статистика между -2 и 2 => есть автокорреляция в остатках"
   ]
  },
  {
   "cell_type": "code",
   "execution_count": 236,
   "metadata": {},
   "outputs": [
    {
     "data": {
      "text/plain": [
       "118"
      ]
     },
     "execution_count": 236,
     "metadata": {},
     "output_type": "execute_result"
    }
   ],
   "source": [
    "len(model_advert.resid)"
   ]
  },
  {
   "cell_type": "code",
   "execution_count": 239,
   "metadata": {},
   "outputs": [
    {
     "data": {
      "text/plain": [
       "120"
      ]
     },
     "execution_count": 239,
     "metadata": {},
     "output_type": "execute_result"
    }
   ],
   "source": [
    "len(model_advert.model.exog)"
   ]
  },
  {
   "cell_type": "code",
   "execution_count": 272,
   "metadata": {},
   "outputs": [
    {
     "ename": "AttributeError",
     "evalue": "type object 'ARDL' has no attribute 'data'",
     "output_type": "error",
     "traceback": [
      "\u001b[1;31m---------------------------------------------------------------------------\u001b[0m",
      "\u001b[1;31mAttributeError\u001b[0m                            Traceback (most recent call last)",
      "Cell \u001b[1;32mIn[272], line 2\u001b[0m\n\u001b[0;32m      1\u001b[0m \u001b[38;5;28;01mfrom\u001b[39;00m \u001b[38;5;21;01mstatsmodels\u001b[39;00m\u001b[38;5;21;01m.\u001b[39;00m\u001b[38;5;21;01mtsa\u001b[39;00m\u001b[38;5;21;01m.\u001b[39;00m\u001b[38;5;21;01mardl\u001b[39;00m \u001b[38;5;28;01mimport\u001b[39;00m ARDLResults\n\u001b[1;32m----> 2\u001b[0m model_advert_holder \u001b[38;5;241m=\u001b[39m \u001b[43mARDLResults\u001b[49m\u001b[43m(\u001b[49m\u001b[43mmodel\u001b[49m\u001b[38;5;241;43m=\u001b[39;49m\u001b[43mARDL\u001b[49m\u001b[43m,\u001b[49m\u001b[43m \u001b[49m\u001b[43mparams\u001b[49m\u001b[43m \u001b[49m\u001b[38;5;241;43m=\u001b[39;49m\u001b[43m \u001b[49m\u001b[43mmodel_advert\u001b[49m\u001b[38;5;241;43m.\u001b[39;49m\u001b[43mparams\u001b[49m\u001b[43m,\u001b[49m\u001b[43m \u001b[49m\u001b[43mcov_params\u001b[49m\u001b[43m \u001b[49m\u001b[38;5;241;43m=\u001b[39;49m\u001b[43m \u001b[49m\u001b[43mmodel_advert\u001b[49m\u001b[38;5;241;43m.\u001b[39;49m\u001b[43mcov_params\u001b[49m\u001b[43m)\u001b[49m\n",
      "File \u001b[1;32mc:\\Users\\Ivan\\AppData\\Local\\Programs\\Python\\Python312\\Lib\\site-packages\\statsmodels\\tsa\\ardl\\model.py:1024\u001b[0m, in \u001b[0;36mARDLResults.__init__\u001b[1;34m(self, model, params, cov_params, normalized_cov_params, scale, use_t)\u001b[0m\n\u001b[0;32m   1015\u001b[0m \u001b[38;5;28;01mdef\u001b[39;00m \u001b[38;5;21m__init__\u001b[39m(\n\u001b[0;32m   1016\u001b[0m     \u001b[38;5;28mself\u001b[39m,\n\u001b[0;32m   1017\u001b[0m     model: ARDL,\n\u001b[1;32m   (...)\u001b[0m\n\u001b[0;32m   1022\u001b[0m     use_t: \u001b[38;5;28mbool\u001b[39m \u001b[38;5;241m=\u001b[39m \u001b[38;5;28;01mFalse\u001b[39;00m,\n\u001b[0;32m   1023\u001b[0m ):\n\u001b[1;32m-> 1024\u001b[0m     \u001b[38;5;28;43msuper\u001b[39;49m\u001b[43m(\u001b[49m\u001b[43m)\u001b[49m\u001b[38;5;241;43m.\u001b[39;49m\u001b[38;5;21;43m__init__\u001b[39;49m\u001b[43m(\u001b[49m\n\u001b[0;32m   1025\u001b[0m \u001b[43m        \u001b[49m\u001b[43mmodel\u001b[49m\u001b[43m,\u001b[49m\u001b[43m \u001b[49m\u001b[43mparams\u001b[49m\u001b[43m,\u001b[49m\u001b[43m \u001b[49m\u001b[43mnormalized_cov_params\u001b[49m\u001b[43m,\u001b[49m\u001b[43m \u001b[49m\u001b[43mscale\u001b[49m\u001b[43m,\u001b[49m\u001b[43m \u001b[49m\u001b[43muse_t\u001b[49m\u001b[38;5;241;43m=\u001b[39;49m\u001b[43muse_t\u001b[49m\n\u001b[0;32m   1026\u001b[0m \u001b[43m    \u001b[49m\u001b[43m)\u001b[49m\n\u001b[0;32m   1027\u001b[0m     \u001b[38;5;28mself\u001b[39m\u001b[38;5;241m.\u001b[39m_cache \u001b[38;5;241m=\u001b[39m {}\n\u001b[0;32m   1028\u001b[0m     \u001b[38;5;28mself\u001b[39m\u001b[38;5;241m.\u001b[39m_params \u001b[38;5;241m=\u001b[39m params\n",
      "File \u001b[1;32mc:\\Users\\Ivan\\AppData\\Local\\Programs\\Python\\Python312\\Lib\\site-packages\\statsmodels\\tsa\\ar_model.py:973\u001b[0m, in \u001b[0;36mAutoRegResults.__init__\u001b[1;34m(self, model, params, cov_params, normalized_cov_params, scale, use_t, summary_text)\u001b[0m\n\u001b[0;32m    963\u001b[0m \u001b[38;5;28;01mdef\u001b[39;00m \u001b[38;5;21m__init__\u001b[39m(\n\u001b[0;32m    964\u001b[0m     \u001b[38;5;28mself\u001b[39m,\n\u001b[0;32m    965\u001b[0m     model,\n\u001b[1;32m   (...)\u001b[0m\n\u001b[0;32m    971\u001b[0m     summary_text\u001b[38;5;241m=\u001b[39m\u001b[38;5;124m\"\u001b[39m\u001b[38;5;124m\"\u001b[39m,\n\u001b[0;32m    972\u001b[0m ):\n\u001b[1;32m--> 973\u001b[0m     \u001b[38;5;28;43msuper\u001b[39;49m\u001b[43m(\u001b[49m\u001b[43m)\u001b[49m\u001b[38;5;241;43m.\u001b[39;49m\u001b[38;5;21;43m__init__\u001b[39;49m\u001b[43m(\u001b[49m\u001b[43mmodel\u001b[49m\u001b[43m,\u001b[49m\u001b[43m \u001b[49m\u001b[43mparams\u001b[49m\u001b[43m,\u001b[49m\u001b[43m \u001b[49m\u001b[43mnormalized_cov_params\u001b[49m\u001b[43m,\u001b[49m\u001b[43m \u001b[49m\u001b[43mscale\u001b[49m\u001b[43m)\u001b[49m\n\u001b[0;32m    974\u001b[0m     \u001b[38;5;28mself\u001b[39m\u001b[38;5;241m.\u001b[39m_cache \u001b[38;5;241m=\u001b[39m {}\n\u001b[0;32m    975\u001b[0m     \u001b[38;5;28mself\u001b[39m\u001b[38;5;241m.\u001b[39m_params \u001b[38;5;241m=\u001b[39m params\n",
      "File \u001b[1;32mc:\\Users\\Ivan\\AppData\\Local\\Programs\\Python\\Python312\\Lib\\site-packages\\statsmodels\\tsa\\base\\tsa_model.py:868\u001b[0m, in \u001b[0;36mTimeSeriesModelResults.__init__\u001b[1;34m(self, model, params, normalized_cov_params, scale)\u001b[0m\n\u001b[0;32m    867\u001b[0m \u001b[38;5;28;01mdef\u001b[39;00m \u001b[38;5;21m__init__\u001b[39m(\u001b[38;5;28mself\u001b[39m, model, params, normalized_cov_params, scale\u001b[38;5;241m=\u001b[39m\u001b[38;5;241m1.0\u001b[39m):\n\u001b[1;32m--> 868\u001b[0m     \u001b[38;5;28mself\u001b[39m\u001b[38;5;241m.\u001b[39mdata \u001b[38;5;241m=\u001b[39m \u001b[43mmodel\u001b[49m\u001b[38;5;241;43m.\u001b[39;49m\u001b[43mdata\u001b[49m\n\u001b[0;32m    869\u001b[0m     \u001b[38;5;28msuper\u001b[39m()\u001b[38;5;241m.\u001b[39m\u001b[38;5;21m__init__\u001b[39m(model, params, normalized_cov_params, scale)\n",
      "\u001b[1;31mAttributeError\u001b[0m: type object 'ARDL' has no attribute 'data'"
     ]
    }
   ],
   "source": [
    "from statsmodels.tsa.ardl import ARDLResults\n",
    "model_advert_holder = ARDLResults(model=ARDL, params = model_advert.params, cov_params = model_advert.cov_params)"
   ]
  },
  {
   "cell_type": "code",
   "execution_count": 273,
   "metadata": {},
   "outputs": [],
   "source": [
    "model_advert_holder.resid = model_advert.resid\n",
    "model_advert_holder.model.exog = model_advert.model.exog[2:]"
   ]
  },
  {
   "cell_type": "code",
   "execution_count": 274,
   "metadata": {},
   "outputs": [
    {
     "data": {
      "text/plain": [
       "(26.228425333010183,\n",
       " 0.003444813722553963,\n",
       " 3.029492623819083,\n",
       " 0.0020746748323962135)"
      ]
     },
     "execution_count": 274,
     "metadata": {},
     "output_type": "execute_result"
    }
   ],
   "source": [
    "acorr_breusch_godfrey(model_advert_holder)"
   ]
  },
  {
   "cell_type": "code",
   "execution_count": 278,
   "metadata": {},
   "outputs": [
    {
     "data": {
      "text/html": [
       "<div>\n",
       "<style scoped>\n",
       "    .dataframe tbody tr th:only-of-type {\n",
       "        vertical-align: middle;\n",
       "    }\n",
       "\n",
       "    .dataframe tbody tr th {\n",
       "        vertical-align: top;\n",
       "    }\n",
       "\n",
       "    .dataframe thead th {\n",
       "        text-align: right;\n",
       "    }\n",
       "</style>\n",
       "<table border=\"1\" class=\"dataframe\">\n",
       "  <thead>\n",
       "    <tr style=\"text-align: right;\">\n",
       "      <th></th>\n",
       "      <th>lb_stat</th>\n",
       "      <th>lb_pvalue</th>\n",
       "    </tr>\n",
       "  </thead>\n",
       "  <tbody>\n",
       "    <tr>\n",
       "      <th>1</th>\n",
       "      <td>23.087900</td>\n",
       "      <td>NaN</td>\n",
       "    </tr>\n",
       "    <tr>\n",
       "      <th>2</th>\n",
       "      <td>24.429473</td>\n",
       "      <td>NaN</td>\n",
       "    </tr>\n",
       "    <tr>\n",
       "      <th>3</th>\n",
       "      <td>25.103190</td>\n",
       "      <td>5.434288e-07</td>\n",
       "    </tr>\n",
       "    <tr>\n",
       "      <th>4</th>\n",
       "      <td>25.241326</td>\n",
       "      <td>3.303054e-06</td>\n",
       "    </tr>\n",
       "    <tr>\n",
       "      <th>5</th>\n",
       "      <td>25.323853</td>\n",
       "      <td>1.321092e-05</td>\n",
       "    </tr>\n",
       "    <tr>\n",
       "      <th>6</th>\n",
       "      <td>25.323936</td>\n",
       "      <td>4.330025e-05</td>\n",
       "    </tr>\n",
       "    <tr>\n",
       "      <th>7</th>\n",
       "      <td>25.394905</td>\n",
       "      <td>1.168795e-04</td>\n",
       "    </tr>\n",
       "    <tr>\n",
       "      <th>8</th>\n",
       "      <td>25.420478</td>\n",
       "      <td>2.853499e-04</td>\n",
       "    </tr>\n",
       "    <tr>\n",
       "      <th>9</th>\n",
       "      <td>25.736191</td>\n",
       "      <td>5.613498e-04</td>\n",
       "    </tr>\n",
       "    <tr>\n",
       "      <th>10</th>\n",
       "      <td>27.435548</td>\n",
       "      <td>5.943794e-04</td>\n",
       "    </tr>\n",
       "  </tbody>\n",
       "</table>\n",
       "</div>"
      ],
      "text/plain": [
       "      lb_stat     lb_pvalue\n",
       "1   23.087900           NaN\n",
       "2   24.429473           NaN\n",
       "3   25.103190  5.434288e-07\n",
       "4   25.241326  3.303054e-06\n",
       "5   25.323853  1.321092e-05\n",
       "6   25.323936  4.330025e-05\n",
       "7   25.394905  1.168795e-04\n",
       "8   25.420478  2.853499e-04\n",
       "9   25.736191  5.613498e-04\n",
       "10  27.435548  5.943794e-04"
      ]
     },
     "execution_count": 278,
     "metadata": {},
     "output_type": "execute_result"
    }
   ],
   "source": [
    "acorr_ljungbox(model_advert.resid, lags=10, model_df=2)"
   ]
  },
  {
   "cell_type": "code",
   "execution_count": 286,
   "metadata": {},
   "outputs": [
    {
     "name": "stdout",
     "output_type": "stream",
     "text": [
      "                              ARDL Model Results                              \n",
      "==============================================================================\n",
      "Dep. Variable:                      y   No. Observations:                  120\n",
      "Model:                     ARDL(0, 2)   Log Likelihood                -213.791\n",
      "Method:               Conditional MLE   S.D. of innovations              1.437\n",
      "Date:                Wed, 13 Dec 2023   AIC                            437.582\n",
      "Time:                        01:38:04   BIC                            451.520\n",
      "Sample:                             2   HQIC                           443.242\n",
      "                                  120                                         \n",
      "==============================================================================\n",
      "                 coef    std err          z      P>|z|      [0.025      0.975]\n",
      "------------------------------------------------------------------------------\n",
      "const         21.6889      0.357     60.785      0.000      20.982      22.396\n",
      "x.L0          -0.0110      0.044     -0.249      0.804      -0.098       0.076\n",
      "x.L1           0.8305      0.044     19.044      0.000       0.744       0.917\n",
      "x.L2           0.4149      0.044      9.456      0.000       0.328       0.502\n",
      "==============================================================================\n"
     ]
    }
   ],
   "source": [
    "model_advert_HAC = ARDL(endog=advert.y, lags=0, exog=advert[['x']], order=2, causal=False).fit(cov_type='HAC', cov_kwds={'maxlags':3})\n",
    "print(model_advert_HAC.summary())"
   ]
  },
  {
   "cell_type": "markdown",
   "metadata": {},
   "source": [
    "### в)"
   ]
  },
  {
   "cell_type": "code",
   "execution_count": 302,
   "metadata": {},
   "outputs": [
    {
     "name": "stdout",
     "output_type": "stream",
     "text": [
      "                              ARDL Model Results                              \n",
      "==============================================================================\n",
      "Dep. Variable:                      y   No. Observations:                  120\n",
      "Model:                     ARDL(0, 2)   Log Likelihood                -213.821\n",
      "Method:               Conditional MLE   S.D. of innovations              1.437\n",
      "Date:                Wed, 13 Dec 2023   AIC                            435.641\n",
      "Time:                        01:41:19   BIC                            446.791\n",
      "Sample:                             2   HQIC                           440.169\n",
      "                                  120                                         \n",
      "==============================================================================\n",
      "                 coef    std err          z      P>|z|      [0.025      0.975]\n",
      "------------------------------------------------------------------------------\n",
      "const         21.6406      0.328     65.939      0.000      20.991      22.291\n",
      "x.L1           0.8316      0.046     18.026      0.000       0.740       0.923\n",
      "x.L2           0.4138      0.047      8.886      0.000       0.322       0.506\n",
      "==============================================================================\n"
     ]
    }
   ],
   "source": [
    "model_advert_best = ARDL(endog=advert.y, lags=0, exog=advert[['x']], order=[1, 2], causal=False).fit()\n",
    "print(model_advert_best.summary())"
   ]
  },
  {
   "cell_type": "code",
   "execution_count": 297,
   "metadata": {},
   "outputs": [
    {
     "data": {
      "text/plain": [
       "1.1125490047257787"
      ]
     },
     "execution_count": 297,
     "metadata": {},
     "output_type": "execute_result"
    }
   ],
   "source": [
    "durbin_watson(model_advert_best.resid)"
   ]
  },
  {
   "cell_type": "markdown",
   "metadata": {},
   "source": [
    "### г)"
   ]
  },
  {
   "cell_type": "code",
   "execution_count": 301,
   "metadata": {},
   "outputs": [
    {
     "name": "stdout",
     "output_type": "stream",
     "text": [
      "                              ARDL Model Results                              \n",
      "==============================================================================\n",
      "Dep. Variable:                      y   No. Observations:                  120\n",
      "Model:                     ARDL(1, 1)   Log Likelihood                -183.629\n",
      "Method:               Conditional MLE   S.D. of innovations              1.132\n",
      "Date:                Wed, 13 Dec 2023   AIC                            377.258\n",
      "Time:                        01:41:16   BIC                            391.154\n",
      "Sample:                             1   HQIC                           382.901\n",
      "                                  120                                         \n",
      "==============================================================================\n",
      "                 coef    std err          z      P>|z|      [0.025      0.975]\n",
      "------------------------------------------------------------------------------\n",
      "const          9.9294      0.990     10.035      0.000       7.969      11.889\n",
      "y.L1           0.5026      0.035     14.159      0.000       0.432       0.573\n",
      "x.L0          -0.0077      0.036     -0.215      0.830      -0.079       0.064\n",
      "x.L1           0.8173      0.036     22.534      0.000       0.745       0.889\n",
      "==============================================================================\n"
     ]
    }
   ],
   "source": [
    "model_advert_ar = ARDL(endog=advert.y, lags=1, exog=advert[['x']], order=1, causal=False).fit()\n",
    "print(model_advert_ar.summary())"
   ]
  },
  {
   "cell_type": "code",
   "execution_count": null,
   "metadata": {},
   "outputs": [],
   "source": []
  }
 ],
 "metadata": {
  "kernelspec": {
   "display_name": "Python 3",
   "language": "python",
   "name": "python3"
  },
  "language_info": {
   "codemirror_mode": {
    "name": "ipython",
    "version": 3
   },
   "file_extension": ".py",
   "mimetype": "text/x-python",
   "name": "python",
   "nbconvert_exporter": "python",
   "pygments_lexer": "ipython3",
   "version": "3.9.6"
  }
 },
 "nbformat": 4,
 "nbformat_minor": 2
}
